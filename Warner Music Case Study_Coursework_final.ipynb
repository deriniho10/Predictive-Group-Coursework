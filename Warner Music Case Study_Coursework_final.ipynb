{
 "cells": [
  {
   "cell_type": "markdown",
   "metadata": {},
   "source": [
    "<h1>\n",
    "    <br style =\"font-family:UCL-SoM-Outline;color:#EA7600\"> GROUP COURSEWORK </br> \n",
    "    </p>\n",
    "</h1>\n",
    "\n",
    "<div class=\"image\">\n",
    "\n",
    "<img src=\"./figures/som_ft.png\" width=\"70%\"  align=\"right\">\n",
    "<h4>\n",
    "          <p style=\"font-size:18pt\">MSIN0097 Predictive Analytics</p>\n",
    "          <p style=\"font-size:18pt;font-family:UCL-SoM-Solid; color:#EA7600;\">Group Name: <u>21178499, 21170965, 21179343</u> </p> \n",
    "          <p style=\"font-size:18pt;font-family:UCL-SoM-Solid; color:#EA7600;\">Emails: <u>**EDIT**</u> </p> \n",
    "\n",
    "</h4>\n",
    "\n",
    "</div>\n",
    "\n",
    "<br>\n",
    "<br>\n",
    "<br>\n"
   ]
  },
  {
   "cell_type": "markdown",
   "metadata": {},
   "source": [
    "# COURSEWORK: WARNER MUSIC\n",
    "\n",
    "\n",
    "\n",
    "### PREDICTING THE SUCCESS OF ARTISTS ON SPOTIFY\n",
    "\n",
    "Please complete the sections of this Notebook with supporting code and markup analysis where appropriate. During this coursework you will:\n",
    "\n",
    "- Understand the specific business forecast task \n",
    "- Prepare a dataset, clean and impute where necessary \n",
    "- Train an ensemble classifier \n",
    "- Evaluate the performance and comment of success and failure modes\n",
    "- Complete all necessary stages of the data science process \n",
    "\n",
    "\n"
   ]
  },
  {
   "cell_type": "markdown",
   "metadata": {},
   "source": [
    "There should be around 100 words per ACTION cell, but use the wordcount over the duration of the Notebook at your discretion. "
   ]
  },
  {
   "cell_type": "markdown",
   "metadata": {},
   "source": [
    "* **Please use the below green cell, when writing your comments in markup.**\n",
    "* **Please feel free to add extra code cells in the notebook if needed.**"
   ]
  },
  {
   "cell_type": "markdown",
   "metadata": {},
   "source": [
    "<div class=\"alert alert-success\">\n",
    "<b> Title </b> (Optional)\n",
    "\n",
    "<p>Content</p> \n",
    "\n",
    "</div>"
   ]
  },
  {
   "cell_type": "markdown",
   "metadata": {},
   "source": [
    "## 0. Business Case Understanding\n",
    "\n",
    "### INTRODUCTION\n",
    "\n",
    "Over the last few years, the music industry has been dominated by digital streaming services, which produce vast amounts of data on listeners and their preferences. \n",
    "\n",
    "This has required major players in the industry to adopt a data driven approach to content delivery in order to stay competitive. \n",
    "\n",
    "Warner Music Group is looking to leverage its rich database to better understand the factors that have the most significant impact on the success of a new artist. This will allow them to optimize the allocation of resources when signing and promoting new artists.\n",
    "\n",
    "Warner’s (large) database contains several sources of data, including the streaming platforms Spotify, Amazon Live and Apple Music. \n",
    "\n",
    "For this case study, we will be looking using the Spotify dataset to predict the success of artists. In particular, we want to understand the role of Spotify playlists on the performance of artist."
   ]
  },
  {
   "cell_type": "markdown",
   "metadata": {},
   "source": [
    "### Streaming Music\n",
    "\n",
    "When artists release music digitally, details of how their music is streamed can be closely monitored. \n",
    "\n",
    "Some of these details include:\n",
    "\n",
    "- How listeners found their music (a recommendation, a playlist)\n",
    "- Where and when (a routine visit to the gym, a party, while working). \n",
    "- On what device (mobile / PC)\n",
    "- And so on…\n",
    "\n",
    "Spotify alone *process nearly 1 billion streams every day* (Dredge, 2015) and this streaming data is documented in detail every time a user accesses the platform. \n",
    "\n",
    "Analyzing this data potentially enables us to gain a much deeper insight into customers’ listening behavior and individual tastes. \n",
    "\n",
    "Spotify uses it to drive their recommender systems – these tailor and individualize content as well as helping the artists reach wider and more relevant audiences. \n",
    "\n",
    "Warner Music would like to use it to better understand the factors that influence the *future success of its artists*, *identify potentially successful acts* early on in their careers and use this analysis to make resource decisions about how they market and support their artists."
   ]
  },
  {
   "cell_type": "markdown",
   "metadata": {},
   "source": [
    "### What are Spotify Playlists and why are relevant today?\n",
    "\n",
    "A playlist is a group of tracks that you can save under a name, listen to, and update at your leisure. \n"
   ]
  },
  {
   "cell_type": "markdown",
   "metadata": {},
   "source": [
    "<img src = 'figures/spotify_playlist_image.png' width=\"50%\"  align=\"left\">"
   ]
  },
  {
   "cell_type": "markdown",
   "metadata": {},
   "source": [
    "**Figure 1. Screen shot of Spotify product show artists and playlists.**"
   ]
  },
  {
   "cell_type": "markdown",
   "metadata": {},
   "source": [
    "Spotify currently has more than two billion publicly available playlists, many of which are curated by Spotify’s in-house team of editors. \n",
    "\n",
    "The editors scour the web on a daily basis to remain up-to-date with the newest releases, and to create playlists geared towards different desires and needs. \n",
    "\n",
    "Additionally, there are playlists such as [Discover Weekly](https://www.spotify.com/uk/discoverweekly/) and [Release Radar](https://support.spotify.com/uk/using_spotify/playlists/release-radar/) that use self-learning algorithms to study a user’s listening behavior over time and recommend songs tailored to his/her tastes.\n",
    "\t\n",
    "The figure below illustrates the progression of artists on Spotify Playlists:"
   ]
  },
  {
   "cell_type": "markdown",
   "metadata": {},
   "source": [
    "<img src = 'figures/playlist_heirarchy.png' width=\"80%\"  align=\"left\">"
   ]
  },
  {
   "cell_type": "markdown",
   "metadata": {},
   "source": [
    "**Figure 2. Figure to illustarte selecting artists and building audience profiles over progressively larger audiences of different playlists. **"
   ]
  },
  {
   "cell_type": "markdown",
   "metadata": {},
   "source": [
    "The artist pool starts off very dense at the bottom, as new artists are picked up on the smaller playlists, and thins on the way to the top, as only the most promising of them make it through to more selective playlists. The playlists on the very top contain the most successful, chart-topping artists.\n",
    "\n",
    "An important discovery that has been made is that certain playlists have more of an influence on the popularity, stream count and future success of an artist than others. "
   ]
  },
  {
   "cell_type": "markdown",
   "metadata": {},
   "source": [
    "<img src = 'figures/playlist_lift.png' width=\"80%\"  align=\"left\">"
   ]
  },
  {
   "cell_type": "markdown",
   "metadata": {},
   "source": [
    "** Figure 3. Figure to illustrate taking song stream data and using it to predict the trajectory, and likely success, of Warner artists. **"
   ]
  },
  {
   "cell_type": "markdown",
   "metadata": {},
   "source": [
    "Moreover, some playlists have been seen to be pivotal in the careers of successful artists. Artists that do make it onto one of these *key* playlists frequently go on to become highly ranked in the music charts. \n",
    "\n",
    "It is the objective of Warner’s [A&R](https://en.wikipedia.org/wiki/Artists_and_repertoire) team to identify and sign artists before they achieve this level of success i.e. before they get selected for these playlists, in order to increase their ROI. "
   ]
  },
  {
   "cell_type": "markdown",
   "metadata": {},
   "source": [
    "### BUSINESS PROBLEM → DATA PROBLEM\n",
    "\n",
    "Now that we have a better understanding of the business problem, we can begin to think about how we could model this problem using data. \n",
    "\n",
    "The first thing we can do is defining a criterion for measuring artist success. \n",
    "\n",
    "Based on our business problem, one way in which we can do this is to create a binary variable representing the success / failure of an artist and determined by whether a song ends up on a key playlist (1), or not (0). We can then generate features for that artist to determine the impact they have on the success of an artist.\n",
    "\n",
    "Our problem thus becomes a classification task, which can be modeled as follows:\n",
    "\n",
    "### *Artist Feature 1 + Artist Feature 2 …. + Artist Feature N = Probability of Success*\n",
    "\n",
    "where,\n",
    "\n",
    "**Success (1) = Artist Features on Key Playlist**\n",
    "\n",
    "The key playlists we will use for this case study are the 4 listed below, as recommended by Warner Analysts:\n",
    "\n",
    "1.\tHot Hits UK\n",
    "2.\tMassive Dance Hits\n",
    "3.\tThe Indie List\n",
    "4.\tNew Music Friday\n"
   ]
  },
  {
   "cell_type": "markdown",
   "metadata": {},
   "source": [
    "The coursework task is to take a look at the Spotify dataset to see how we might be able to set up this classification model.\n",
    "\n",
    "Complete the code sections below to work through the project from start to finish. \n",
    "<br>"
   ]
  },
  {
   "cell_type": "markdown",
   "metadata": {},
   "source": [
    "<div class=\"alert alert-warning\">\n",
    "<b>ACTION: Guidance </b> \n",
    "\n",
    "<p>If you need to do something, instructions will appear in a box like this</p> \n",
    "\n",
    "</div>"
   ]
  },
  {
   "cell_type": "markdown",
   "metadata": {},
   "source": [
    "## 1. Prepare the problem \n",
    "\n",
    "Run your code on Faculty. We have prepared some of the data for you already. \n",
    "\n",
    "In addition, we have imported a custom module (spotfunc.py) containing useful functions written for this dataset."
   ]
  },
  {
   "cell_type": "code",
   "execution_count": 1,
   "metadata": {},
   "outputs": [],
   "source": [
    "import pandas as pd\n",
    "import numpy as np\n",
    "import seaborn as sns\n",
    "import matplotlib.pyplot as plt\n",
    "\n",
    "from sklearn.ensemble import RandomForestClassifier\n",
    "from sklearn.linear_model import LogisticRegression\n",
    "from sklearn.svm import SVC\n",
    "from sklearn.svm import LinearSVC\n",
    "from sklearn.tree import DecisionTreeClassifier\n",
    "from sklearn.metrics import f1_score\n",
    "from sklearn.metrics import accuracy_score\n",
    "from sklearn.model_selection import GridSearchCV\n",
    "from sklearn.metrics import confusion_matrix\n",
    "from sklearn.model_selection import cross_val_predict\n",
    "from sklearn.model_selection import train_test_split\n",
    "import tensorflow as tf\n",
    "from tensorflow import keras"
   ]
  },
  {
   "cell_type": "markdown",
   "metadata": {},
   "source": [
    "\n",
    "\n",
    "## 2. Data Understanding\n",
    "\n",
    "<br>\n",
    "A year’s worth of Spotify streaming data in the WMG database amounts to approximately 50 billion rows of data i.e. 50 billion streams (1.5 to 2 terabytes worth), with a total of seven years of data stored altogether (2010 till today).\n",
    "\n",
    "For the purposes of this case study, we will be using a sample of this data. The dataset uploaded on the Faculty server is about 16GB, containing data from 2015 - 2017. Given the limits on RAM and cores, we will be taking a further sample of this data for purposes of this case study: a 10% random sample of the total dataset, saved as 'cleaned_data.csv'. \n",
    "\n",
    "*Note: The code for this sampling in included below, but commented out.*\n",
    "\n",
    "We can begin with reading in the datasets we will need. We will be using 2 files: \n",
    "1. Primary Spotify dataset\n",
    "2. Playlist Name Mapper (only playlist IDs provided in primary dataset)\n",
    "\n"
   ]
  },
  {
   "cell_type": "markdown",
   "metadata": {},
   "source": [
    "Read in the data"
   ]
  },
  {
   "cell_type": "code",
   "execution_count": null,
   "metadata": {},
   "outputs": [],
   "source": [
    "%%time\n",
    "# Read in sampled data\n",
    "data = pd.read_csv('cleaned_data.csv')\n",
    "print('rows:',len(data))\n",
    "\n",
    "# Keep a copy of original data in case of changes made to dataframe\n",
    "all_artists = data.copy()\n",
    "\n",
    "# Keep only those with 22 characters (data cleaning)\n",
    "playlist_mapper = playlist_ids_and_titles[playlist_ids_and_titles.id.str.len()==22].drop_duplicates(['id'])"
   ]
  },
  {
   "cell_type": "markdown",
   "metadata": {},
   "source": [
    "Begin by taking a look at what the Spotify data looks like:"
   ]
  },
  {
   "cell_type": "markdown",
   "metadata": {},
   "source": [
    "<div class=\"alert alert-warning\">\n",
    "<b>ACTION: Inspect the data </b> \n",
    "\n",
    "Make sure you understand the data. Use methods like **data.head()**, **data.info()**, etc.\n",
    "\n",
    "</div>"
   ]
  },
  {
   "cell_type": "code",
   "execution_count": 3,
   "metadata": {
    "scrolled": true
   },
   "outputs": [
    {
     "data": {
      "text/html": [
       "<div>\n",
       "<style scoped>\n",
       "    .dataframe tbody tr th:only-of-type {\n",
       "        vertical-align: middle;\n",
       "    }\n",
       "\n",
       "    .dataframe tbody tr th {\n",
       "        vertical-align: top;\n",
       "    }\n",
       "\n",
       "    .dataframe thead th {\n",
       "        text-align: right;\n",
       "    }\n",
       "</style>\n",
       "<table border=\"1\" class=\"dataframe\">\n",
       "  <thead>\n",
       "    <tr style=\"text-align: right;\">\n",
       "      <th></th>\n",
       "      <th>Unnamed: 0</th>\n",
       "      <th>Unnamed: 0.1</th>\n",
       "      <th>Unnamed: 0.1.1</th>\n",
       "      <th>day</th>\n",
       "      <th>log_time</th>\n",
       "      <th>mobile</th>\n",
       "      <th>track_id</th>\n",
       "      <th>isrc</th>\n",
       "      <th>upc</th>\n",
       "      <th>artist_name</th>\n",
       "      <th>...</th>\n",
       "      <th>hour</th>\n",
       "      <th>minute</th>\n",
       "      <th>week</th>\n",
       "      <th>month</th>\n",
       "      <th>year</th>\n",
       "      <th>date</th>\n",
       "      <th>weekday</th>\n",
       "      <th>weekday_name</th>\n",
       "      <th>playlist_id</th>\n",
       "      <th>playlist_name</th>\n",
       "    </tr>\n",
       "  </thead>\n",
       "  <tbody>\n",
       "    <tr>\n",
       "      <th>0</th>\n",
       "      <td>0</td>\n",
       "      <td>9</td>\n",
       "      <td>('small_artists_2016.csv', 9)</td>\n",
       "      <td>10</td>\n",
       "      <td>20160510T12:15:00</td>\n",
       "      <td>True</td>\n",
       "      <td>8f1924eab3804f308427c31d925c1b3f</td>\n",
       "      <td>USAT21600547</td>\n",
       "      <td>7.567991e+10</td>\n",
       "      <td>Sturgill Simpson</td>\n",
       "      <td>...</td>\n",
       "      <td>12</td>\n",
       "      <td>15</td>\n",
       "      <td>19</td>\n",
       "      <td>5</td>\n",
       "      <td>2016</td>\n",
       "      <td>2016-05-10</td>\n",
       "      <td>1</td>\n",
       "      <td>Tuesday</td>\n",
       "      <td>NaN</td>\n",
       "      <td>NaN</td>\n",
       "    </tr>\n",
       "    <tr>\n",
       "      <th>1</th>\n",
       "      <td>1</td>\n",
       "      <td>19</td>\n",
       "      <td>('small_artists_2016.csv', 19)</td>\n",
       "      <td>10</td>\n",
       "      <td>20160510T12:15:00</td>\n",
       "      <td>True</td>\n",
       "      <td>8f1924eab3804f308427c31d925c1b3f</td>\n",
       "      <td>USAT21600547</td>\n",
       "      <td>7.567991e+10</td>\n",
       "      <td>Sturgill Simpson</td>\n",
       "      <td>...</td>\n",
       "      <td>12</td>\n",
       "      <td>15</td>\n",
       "      <td>19</td>\n",
       "      <td>5</td>\n",
       "      <td>2016</td>\n",
       "      <td>2016-05-10</td>\n",
       "      <td>1</td>\n",
       "      <td>Tuesday</td>\n",
       "      <td>NaN</td>\n",
       "      <td>NaN</td>\n",
       "    </tr>\n",
       "    <tr>\n",
       "      <th>2</th>\n",
       "      <td>2</td>\n",
       "      <td>29</td>\n",
       "      <td>('small_artists_2016.csv', 29)</td>\n",
       "      <td>10</td>\n",
       "      <td>20160510T14:00:00</td>\n",
       "      <td>True</td>\n",
       "      <td>8f1924eab3804f308427c31d925c1b3f</td>\n",
       "      <td>USAT21600547</td>\n",
       "      <td>7.567991e+10</td>\n",
       "      <td>Sturgill Simpson</td>\n",
       "      <td>...</td>\n",
       "      <td>14</td>\n",
       "      <td>0</td>\n",
       "      <td>19</td>\n",
       "      <td>5</td>\n",
       "      <td>2016</td>\n",
       "      <td>2016-05-10</td>\n",
       "      <td>1</td>\n",
       "      <td>Tuesday</td>\n",
       "      <td>NaN</td>\n",
       "      <td>NaN</td>\n",
       "    </tr>\n",
       "    <tr>\n",
       "      <th>3</th>\n",
       "      <td>3</td>\n",
       "      <td>39</td>\n",
       "      <td>('small_artists_2016.csv', 39)</td>\n",
       "      <td>10</td>\n",
       "      <td>20160510T10:45:00</td>\n",
       "      <td>True</td>\n",
       "      <td>8f1924eab3804f308427c31d925c1b3f</td>\n",
       "      <td>USAT21600547</td>\n",
       "      <td>7.567991e+10</td>\n",
       "      <td>Sturgill Simpson</td>\n",
       "      <td>...</td>\n",
       "      <td>10</td>\n",
       "      <td>45</td>\n",
       "      <td>19</td>\n",
       "      <td>5</td>\n",
       "      <td>2016</td>\n",
       "      <td>2016-05-10</td>\n",
       "      <td>1</td>\n",
       "      <td>Tuesday</td>\n",
       "      <td>NaN</td>\n",
       "      <td>NaN</td>\n",
       "    </tr>\n",
       "    <tr>\n",
       "      <th>4</th>\n",
       "      <td>4</td>\n",
       "      <td>49</td>\n",
       "      <td>('small_artists_2016.csv', 49)</td>\n",
       "      <td>10</td>\n",
       "      <td>20160510T10:15:00</td>\n",
       "      <td>True</td>\n",
       "      <td>8f1924eab3804f308427c31d925c1b3f</td>\n",
       "      <td>USAT21600547</td>\n",
       "      <td>7.567991e+10</td>\n",
       "      <td>Sturgill Simpson</td>\n",
       "      <td>...</td>\n",
       "      <td>10</td>\n",
       "      <td>15</td>\n",
       "      <td>19</td>\n",
       "      <td>5</td>\n",
       "      <td>2016</td>\n",
       "      <td>2016-05-10</td>\n",
       "      <td>1</td>\n",
       "      <td>Tuesday</td>\n",
       "      <td>NaN</td>\n",
       "      <td>NaN</td>\n",
       "    </tr>\n",
       "  </tbody>\n",
       "</table>\n",
       "<p>5 rows × 45 columns</p>\n",
       "</div>"
      ],
      "text/plain": [
       "   Unnamed: 0  Unnamed: 0.1                  Unnamed: 0.1.1  day  \\\n",
       "0           0             9   ('small_artists_2016.csv', 9)   10   \n",
       "1           1            19  ('small_artists_2016.csv', 19)   10   \n",
       "2           2            29  ('small_artists_2016.csv', 29)   10   \n",
       "3           3            39  ('small_artists_2016.csv', 39)   10   \n",
       "4           4            49  ('small_artists_2016.csv', 49)   10   \n",
       "\n",
       "            log_time  mobile                          track_id          isrc  \\\n",
       "0  20160510T12:15:00    True  8f1924eab3804f308427c31d925c1b3f  USAT21600547   \n",
       "1  20160510T12:15:00    True  8f1924eab3804f308427c31d925c1b3f  USAT21600547   \n",
       "2  20160510T14:00:00    True  8f1924eab3804f308427c31d925c1b3f  USAT21600547   \n",
       "3  20160510T10:45:00    True  8f1924eab3804f308427c31d925c1b3f  USAT21600547   \n",
       "4  20160510T10:15:00    True  8f1924eab3804f308427c31d925c1b3f  USAT21600547   \n",
       "\n",
       "            upc       artist_name  ... hour minute week month  year  \\\n",
       "0  7.567991e+10  Sturgill Simpson  ...   12     15   19     5  2016   \n",
       "1  7.567991e+10  Sturgill Simpson  ...   12     15   19     5  2016   \n",
       "2  7.567991e+10  Sturgill Simpson  ...   14      0   19     5  2016   \n",
       "3  7.567991e+10  Sturgill Simpson  ...   10     45   19     5  2016   \n",
       "4  7.567991e+10  Sturgill Simpson  ...   10     15   19     5  2016   \n",
       "\n",
       "         date weekday  weekday_name playlist_id playlist_name  \n",
       "0  2016-05-10       1       Tuesday         NaN           NaN  \n",
       "1  2016-05-10       1       Tuesday         NaN           NaN  \n",
       "2  2016-05-10       1       Tuesday         NaN           NaN  \n",
       "3  2016-05-10       1       Tuesday         NaN           NaN  \n",
       "4  2016-05-10       1       Tuesday         NaN           NaN  \n",
       "\n",
       "[5 rows x 45 columns]"
      ]
     },
     "execution_count": 3,
     "metadata": {},
     "output_type": "execute_result"
    }
   ],
   "source": [
    "# show first 5 rows\n",
    "data.head()"
   ]
  },
  {
   "cell_type": "code",
   "execution_count": 4,
   "metadata": {
    "scrolled": true
   },
   "outputs": [
    {
     "name": "stdout",
     "output_type": "stream",
     "text": [
      "<class 'pandas.core.frame.DataFrame'>\n",
      "RangeIndex: 3805499 entries, 0 to 3805498\n",
      "Data columns (total 45 columns):\n",
      " #   Column             Dtype  \n",
      "---  ------             -----  \n",
      " 0   Unnamed: 0         int64  \n",
      " 1   Unnamed: 0.1       int64  \n",
      " 2   Unnamed: 0.1.1     object \n",
      " 3   day                int64  \n",
      " 4   log_time           object \n",
      " 5   mobile             bool   \n",
      " 6   track_id           object \n",
      " 7   isrc               object \n",
      " 8   upc                float64\n",
      " 9   artist_name        object \n",
      " 10  track_name         object \n",
      " 11  album_name         object \n",
      " 12  customer_id        object \n",
      " 13  postal_code        object \n",
      " 14  access             object \n",
      " 15  country_code       object \n",
      " 16  gender             object \n",
      " 17  birth_year         float64\n",
      " 18  filename           object \n",
      " 19  region_code        object \n",
      " 20  referral_code      float64\n",
      " 21  partner_name       object \n",
      " 22  financial_product  object \n",
      " 23  user_product_type  object \n",
      " 24  offline_timestamp  float64\n",
      " 25  stream_length      float64\n",
      " 26  stream_cached      float64\n",
      " 27  stream_source      object \n",
      " 28  stream_source_uri  object \n",
      " 29  stream_device      object \n",
      " 30  stream_os          object \n",
      " 31  track_uri          object \n",
      " 32  track_artists      object \n",
      " 33  source             float64\n",
      " 34  DateTime           object \n",
      " 35  hour               int64  \n",
      " 36  minute             int64  \n",
      " 37  week               int64  \n",
      " 38  month              int64  \n",
      " 39  year               int64  \n",
      " 40  date               object \n",
      " 41  weekday            int64  \n",
      " 42  weekday_name       object \n",
      " 43  playlist_id        object \n",
      " 44  playlist_name      object \n",
      "dtypes: bool(1), float64(7), int64(9), object(28)\n",
      "memory usage: 1.3+ GB\n"
     ]
    }
   ],
   "source": [
    "# get a basic insight of the data\n",
    "data.info()"
   ]
  },
  {
   "cell_type": "code",
   "execution_count": 5,
   "metadata": {},
   "outputs": [],
   "source": [
    "# obtain columns to focus on\n",
    "df = data.loc[:,(\"log_time\", \"artist_name\", \"track_name\", \"isrc\", \"customer_id\",\n",
    "                \"birth_year\", \"postal_code\", \"gender\", \"stream_source_uri\",\n",
    "                \"weekday_name\", \"region_code\", \"playlist_name\")]"
   ]
  },
  {
   "cell_type": "code",
   "execution_count": 6,
   "metadata": {
    "scrolled": true
   },
   "outputs": [
    {
     "data": {
      "text/html": [
       "<div>\n",
       "<style scoped>\n",
       "    .dataframe tbody tr th:only-of-type {\n",
       "        vertical-align: middle;\n",
       "    }\n",
       "\n",
       "    .dataframe tbody tr th {\n",
       "        vertical-align: top;\n",
       "    }\n",
       "\n",
       "    .dataframe thead th {\n",
       "        text-align: right;\n",
       "    }\n",
       "</style>\n",
       "<table border=\"1\" class=\"dataframe\">\n",
       "  <thead>\n",
       "    <tr style=\"text-align: right;\">\n",
       "      <th></th>\n",
       "      <th>log_time</th>\n",
       "      <th>artist_name</th>\n",
       "      <th>track_name</th>\n",
       "      <th>isrc</th>\n",
       "      <th>customer_id</th>\n",
       "      <th>birth_year</th>\n",
       "      <th>postal_code</th>\n",
       "      <th>gender</th>\n",
       "      <th>stream_source_uri</th>\n",
       "      <th>weekday_name</th>\n",
       "      <th>region_code</th>\n",
       "      <th>playlist_name</th>\n",
       "    </tr>\n",
       "  </thead>\n",
       "  <tbody>\n",
       "    <tr>\n",
       "      <th>0</th>\n",
       "      <td>20160510T12:15:00</td>\n",
       "      <td>Sturgill Simpson</td>\n",
       "      <td>Call To Arms</td>\n",
       "      <td>USAT21600547</td>\n",
       "      <td>6c022a8376c10aae37abb839eb7625fe</td>\n",
       "      <td>1968.0</td>\n",
       "      <td>NE</td>\n",
       "      <td>male</td>\n",
       "      <td>NaN</td>\n",
       "      <td>Tuesday</td>\n",
       "      <td>GB-DUR</td>\n",
       "      <td>NaN</td>\n",
       "    </tr>\n",
       "    <tr>\n",
       "      <th>1</th>\n",
       "      <td>20160510T12:15:00</td>\n",
       "      <td>Sturgill Simpson</td>\n",
       "      <td>Call To Arms</td>\n",
       "      <td>USAT21600547</td>\n",
       "      <td>6c022a8376c10aae37abb839eb7625fe</td>\n",
       "      <td>1968.0</td>\n",
       "      <td>NE</td>\n",
       "      <td>male</td>\n",
       "      <td>NaN</td>\n",
       "      <td>Tuesday</td>\n",
       "      <td>GB-DUR</td>\n",
       "      <td>NaN</td>\n",
       "    </tr>\n",
       "    <tr>\n",
       "      <th>2</th>\n",
       "      <td>20160510T14:00:00</td>\n",
       "      <td>Sturgill Simpson</td>\n",
       "      <td>Call To Arms</td>\n",
       "      <td>USAT21600547</td>\n",
       "      <td>352292382ff3ee0cfd3b73b94ea0ff8f</td>\n",
       "      <td>1995.0</td>\n",
       "      <td>1</td>\n",
       "      <td>male</td>\n",
       "      <td>NaN</td>\n",
       "      <td>Tuesday</td>\n",
       "      <td>GB-ESS</td>\n",
       "      <td>NaN</td>\n",
       "    </tr>\n",
       "    <tr>\n",
       "      <th>3</th>\n",
       "      <td>20160510T10:45:00</td>\n",
       "      <td>Sturgill Simpson</td>\n",
       "      <td>Call To Arms</td>\n",
       "      <td>USAT21600547</td>\n",
       "      <td>c3f2b54e76696ed491d9d8f964c97774</td>\n",
       "      <td>1992.0</td>\n",
       "      <td>MK</td>\n",
       "      <td>male</td>\n",
       "      <td>NaN</td>\n",
       "      <td>Tuesday</td>\n",
       "      <td>GB-HRT</td>\n",
       "      <td>NaN</td>\n",
       "    </tr>\n",
       "    <tr>\n",
       "      <th>4</th>\n",
       "      <td>20160510T10:15:00</td>\n",
       "      <td>Sturgill Simpson</td>\n",
       "      <td>Call To Arms</td>\n",
       "      <td>USAT21600547</td>\n",
       "      <td>6a06a9bbe042c73e8f1a3596ec321636</td>\n",
       "      <td>1979.0</td>\n",
       "      <td>KT</td>\n",
       "      <td>male</td>\n",
       "      <td>NaN</td>\n",
       "      <td>Tuesday</td>\n",
       "      <td>GB-LND</td>\n",
       "      <td>NaN</td>\n",
       "    </tr>\n",
       "  </tbody>\n",
       "</table>\n",
       "</div>"
      ],
      "text/plain": [
       "            log_time       artist_name    track_name          isrc  \\\n",
       "0  20160510T12:15:00  Sturgill Simpson  Call To Arms  USAT21600547   \n",
       "1  20160510T12:15:00  Sturgill Simpson  Call To Arms  USAT21600547   \n",
       "2  20160510T14:00:00  Sturgill Simpson  Call To Arms  USAT21600547   \n",
       "3  20160510T10:45:00  Sturgill Simpson  Call To Arms  USAT21600547   \n",
       "4  20160510T10:15:00  Sturgill Simpson  Call To Arms  USAT21600547   \n",
       "\n",
       "                        customer_id  birth_year postal_code gender  \\\n",
       "0  6c022a8376c10aae37abb839eb7625fe      1968.0          NE   male   \n",
       "1  6c022a8376c10aae37abb839eb7625fe      1968.0          NE   male   \n",
       "2  352292382ff3ee0cfd3b73b94ea0ff8f      1995.0           1   male   \n",
       "3  c3f2b54e76696ed491d9d8f964c97774      1992.0          MK   male   \n",
       "4  6a06a9bbe042c73e8f1a3596ec321636      1979.0          KT   male   \n",
       "\n",
       "  stream_source_uri weekday_name region_code playlist_name  \n",
       "0               NaN      Tuesday      GB-DUR           NaN  \n",
       "1               NaN      Tuesday      GB-DUR           NaN  \n",
       "2               NaN      Tuesday      GB-ESS           NaN  \n",
       "3               NaN      Tuesday      GB-HRT           NaN  \n",
       "4               NaN      Tuesday      GB-LND           NaN  "
      ]
     },
     "execution_count": 6,
     "metadata": {},
     "output_type": "execute_result"
    }
   ],
   "source": [
    "# show first 5 rows\n",
    "df.head()"
   ]
  },
  {
   "cell_type": "markdown",
   "metadata": {},
   "source": [
    "Each row in the data is a unique stream – every time a user streams a song in the Warner Music catalogue for at least 30 seconds it becomes a row in the database. Each stream counts as a ‘transaction’, the value of which is £0.0012, and accordingly, 1000 streams of a song count as a ‘sale’ (worth £1) for the artist. The dataset is comprised of listeners in Great Britain only.\n",
    "\n",
    "Not all the columns provided are relevant to us. Lets take a look at some basic properties of the dataset, and identify the columns that are important for this study\n"
   ]
  },
  {
   "cell_type": "markdown",
   "metadata": {},
   "source": [
    "The columns you should *focus* on for this case study are:\n",
    "\n",
    "* Log Time – timestamp of each stream\n",
    "* Artist Name(s) – some songs feature more than one artist\n",
    "* Track Name\n",
    "* ISRC - (Unique code identifier for that version of the song, i.e. radio edit, album version, remix etc.)\n",
    "* Customer ID\n",
    "* Birth Year\n",
    "* Location of Customer\n",
    "* Gender of Customer\n",
    "* Stream Source URI – where on Spotify was the song played – unique playlist ID, an artist’s page, an album etc.\n"
   ]
  },
  {
   "cell_type": "markdown",
   "metadata": {},
   "source": [
    "### EXPLORATORY ANALYSIS AND PLOTS\n"
   ]
  },
  {
   "cell_type": "markdown",
   "metadata": {},
   "source": [
    "Now look at the data set in more detail. "
   ]
  },
  {
   "cell_type": "markdown",
   "metadata": {},
   "source": [
    "<div class=\"alert alert-warning\">\n",
    "<b>ACTION: Exploratory analysis </b> \n",
    "\n",
    "<p>As demonstrated in class, explore various distribution of the data. Comment on any patterns you can see.</p>\n",
    "\n",
    "<p>- Highlight on any potential uncertainties or peculiarities that you observe. </p> \n",
    "\n",
    "<p>- Variables you might explore, include, but are not limited to: Age, Gender, Stream counts and playlists.</p>\n",
    "\n",
    "<p> - Use figures, plots and visualization as necessary.</p>\n",
    "\n",
    "</div>"
   ]
  },
  {
   "cell_type": "code",
   "execution_count": 176,
   "metadata": {},
   "outputs": [
    {
     "name": "stderr",
     "output_type": "stream",
     "text": [
      "/Users/brennanyap/opt/anaconda3/lib/python3.8/site-packages/seaborn/_decorators.py:36: FutureWarning: Pass the following variables as keyword args: x, y. From version 0.12, the only valid positional argument will be `data`, and passing other arguments without an explicit keyword will result in an error or misinterpretation.\n",
      "  warnings.warn(\n"
     ]
    },
    {
     "data": {
      "text/plain": [
       "<AxesSubplot:>"
      ]
     },
     "execution_count": 176,
     "metadata": {},
     "output_type": "execute_result"
    },
    {
     "data": {
      "image/png": "[encoded data removed]",
      "text/plain": [
       "<Figure size 1080x576 with 1 Axes>"
      ]
     },
     "metadata": {},
     "output_type": "display_data"
    }
   ],
   "source": [
    "# streams by region\n",
    "sns.barplot(df.region_code.value_counts().head(10).index, df.region_code.value_counts().head(10).values)\n"
   ]
  },
  {
   "cell_type": "code",
   "execution_count": 172,
   "metadata": {},
   "outputs": [
    {
     "data": {
      "text/plain": [
       "Hot Hits UK                   193654\n",
       "Today's Top Hits              105383\n",
       "Topsify UK Top 40              54982\n",
       "Freshness: Hot House Music     32961\n",
       "The Pop List                   28630\n",
       "Name: playlist_name, dtype: int64"
      ]
     },
     "execution_count": 172,
     "metadata": {},
     "output_type": "execute_result"
    }
   ],
   "source": [
    "# top 5 most popular playlist\n",
    "df[\"playlist_name\"].value_counts().head(5)"
   ]
  },
  {
   "cell_type": "code",
   "execution_count": 7,
   "metadata": {},
   "outputs": [],
   "source": [
    "# create new column showing age \n",
    "df[\"age\"] = data[\"year\"] - data[\"birth_year\"]"
   ]
  },
  {
   "cell_type": "code",
   "execution_count": 8,
   "metadata": {
    "scrolled": false
   },
   "outputs": [
    {
     "name": "stderr",
     "output_type": "stream",
     "text": [
      "/Users/brennanyap/opt/anaconda3/lib/python3.8/site-packages/seaborn/_decorators.py:36: FutureWarning: Pass the following variables as keyword args: x, y. From version 0.12, the only valid positional argument will be `data`, and passing other arguments without an explicit keyword will result in an error or misinterpretation.\n",
      "  warnings.warn(\n"
     ]
    },
    {
     "data": {
      "image/png": "[encoded data removed]",
      "text/plain": [
       "<Figure size 1080x576 with 1 Axes>"
      ]
     },
     "metadata": {},
     "output_type": "display_data"
    }
   ],
   "source": [
    "# top 10 most streamed artists from '15-'17 in GB\n",
    "sns.set(rc = {'figure.figsize':(15,8)})\n",
    "sns.barplot(df[\"artist_name\"].value_counts().head(10).index, df[\"artist_name\"].value_counts().head(10).values)\n",
    "plt.show()"
   ]
  },
  {
   "cell_type": "code",
   "execution_count": 9,
   "metadata": {
    "scrolled": false
   },
   "outputs": [
    {
     "name": "stderr",
     "output_type": "stream",
     "text": [
      "/Users/brennanyap/opt/anaconda3/lib/python3.8/site-packages/seaborn/_decorators.py:36: FutureWarning: Pass the following variables as keyword args: x, y. From version 0.12, the only valid positional argument will be `data`, and passing other arguments without an explicit keyword will result in an error or misinterpretation.\n",
      "  warnings.warn(\n"
     ]
    },
    {
     "data": {
      "image/png": "[encoded data removed]",
      "text/plain": [
       "<Figure size 1080x576 with 1 Axes>"
      ]
     },
     "metadata": {},
     "output_type": "display_data"
    }
   ],
   "source": [
    "# top 10 most streamed tracks\n",
    "top_10_tracks = sns.barplot(df[\"track_name\"].value_counts().head(10).index, df[\"track_name\"].value_counts().head(10).values)\n",
    "top_10_tracks.set_xticklabels(top_10_tracks.get_xticklabels(), rotation = 30, ha=\"right\")\n",
    "plt.show()"
   ]
  },
  {
   "cell_type": "code",
   "execution_count": 10,
   "metadata": {
    "scrolled": false
   },
   "outputs": [
    {
     "data": {
      "image/png": "[encoded data removed]",
      "text/plain": [
       "<Figure size 1080x576 with 1 Axes>"
      ]
     },
     "metadata": {},
     "output_type": "display_data"
    }
   ],
   "source": [
    "# observe how age affects getting a stroke \n",
    "\n",
    "male_age1 = len(df[(df['age'] <= 20) & (df['gender'] == \"male\")])\n",
    "male_age2 = len(df[(df['age'].between(21,30)) & (df['gender'] == \"male\")])\n",
    "male_age3 = len(df[(df['age'].between(31,40)) & (df['gender'] == \"male\")])\n",
    "male_age4 = len(df[(df['age'] > 40) & (df['gender'] == \"male\")])\n",
    "\n",
    "female_age1 = len(df[(df['age'] <= 20) & (df['gender'] == \"female\")])\n",
    "female_age2 = len(df[(df['age'].between(21,30)) & (df['gender'] == \"female\")])\n",
    "female_age3 = len(df[(df['age'].between(31,40)) & (df['gender'] == \"female\")])\n",
    "female_age4 = len(df[(df['age'] > 40) & (df['gender'] == \"female\")])\n",
    "\n",
    "\n",
    "age_range = ['<= 20', '21 - 30', '31 - 40', '> 40']\n",
    "male = [male_age1, male_age2, male_age3, male_age4]\n",
    "female = [female_age1, female_age2, female_age3, female_age4]\n",
    "\n",
    "df_age = {'male':male, 'female': female}\n",
    "df_age = pd.DataFrame(df_age, index = age_range)\n",
    "df_age.reset_index(inplace = True)\n",
    "df_age.rename(columns = {\"index\" : \"age range\"}, inplace = True)\n",
    "   \n",
    "df_age.plot(x= \"age range\", kind='barh', stacked=True, title='Breakdown of ages', mark_right=True)   \n",
    "\n",
    "df_age_total = df_age[\"male\"] + df_age[\"female\"]\n",
    "df_rel = df_age[df_age.columns[1:]].div(df_age_total, 0)*100\n",
    "  \n",
    "for n in df_rel:\n",
    "    for i, (cs, ab, pc) in enumerate(zip(df_age.iloc[:, 1:].cumsum(1)[n], \n",
    "                                         df_age[n], df_rel[n])):\n",
    "        plt.text(cs - ab / 2, i, str(np.round(pc, 1)) + '%', \n",
    "                 va = 'center', ha = 'center')"
   ]
  },
  {
   "cell_type": "code",
   "execution_count": 181,
   "metadata": {},
   "outputs": [
    {
     "data": {
      "text/plain": [
       "<seaborn.axisgrid.FacetGrid at 0x7fbc92c573a0>"
      ]
     },
     "execution_count": 181,
     "metadata": {},
     "output_type": "execute_result"
    },
    {
     "data": {
      "image/png": "[encoded data removed]",
      "text/plain": [
       "<Figure size 432.85x360 with 1 Axes>"
      ]
     },
     "metadata": {},
     "output_type": "display_data"
    }
   ],
   "source": [
    "# plot age distribution by gender \n",
    "sns.displot(df, x=\"age\", hue=\"gender\", kind=\"kde\", bw_adjust=1)"
   ]
  },
  {
   "cell_type": "code",
   "execution_count": 11,
   "metadata": {
    "scrolled": false
   },
   "outputs": [
    {
     "data": {
      "image/png": "[encoded data removed]",
      "text/plain": [
       "<Figure size 1080x576 with 1 Axes>"
      ]
     },
     "metadata": {},
     "output_type": "display_data"
    }
   ],
   "source": [
    "# customer listening behaviour by day\n",
    "df_pie = pd.DataFrame(df[\"weekday_name\"].value_counts())\n",
    "df_pie.reset_index(inplace = True)\n",
    "\n",
    "plt.pie(df_pie[\"weekday_name\"], labels = df_pie[\"index\"], autopct='%1.1f%%')\n",
    "plt.show()"
   ]
  },
  {
   "cell_type": "code",
   "execution_count": 39,
   "metadata": {},
   "outputs": [
    {
     "data": {
      "image/png": "[encoded data removed]",
      "text/plain": [
       "<Figure size 1080x576 with 1 Axes>"
      ]
     },
     "metadata": {},
     "output_type": "display_data"
    }
   ],
   "source": [
    "#seperate the time from date\n",
    "df[['listen_date', 'listen_time']] = df[\"log_time\"].str.split(\"T\", expand = True)\n",
    "#drop the date column\n",
    "df = df.drop('listen_date', axis=1)\n",
    "#get number of streams in an hour period\n",
    "time = ['00',\"01\", \"02\",'03','04','05','06','07','08','09','10','11','12','13','14','15','16','17','18','19','20','21','22','23']\n",
    "stream_counts=[]\n",
    "for i in time:\n",
    "    x = len(df.loc[df['listen_time'].str.startswith(i)])\n",
    "    stream_counts.append(x)\n",
    "\n",
    "#plot the streams count by different time periods of the day and the proportion of streams from 4 hit lists\n",
    "xpos = np.arange(len(time))\n",
    "\n",
    "\n",
    "plt.rcParams[\"figure.figsize\"] = (15, 8)\n",
    "plt.xticks(xpos, time)\n",
    "plt.ylabel('Stream Counts')\n",
    "plt.xlabel('Time of the day')\n",
    "plt.title('Stream Counts by Time')\n",
    "plt.bar(xpos, stream_counts, color = '#15B01A')\n",
    "plt.show()"
   ]
  },
  {
   "cell_type": "markdown",
   "metadata": {},
   "source": [
    "**Create Dependent Variable**"
   ]
  },
  {
   "cell_type": "markdown",
   "metadata": {},
   "source": [
    "<div class=\"alert alert-warning\">\n",
    "<b>ACTION: Dependant variable </b> \n",
    "\n",
    "<p> Set up the problem as one of classification, selecting the relevant playlists as the variable we are trying to model.</p>\n",
    "\n",
    "<p> Write useful helper functions to support creating of the feature vector and target vector </p>\n",
    "\n",
    "\n",
    "</div>"
   ]
  },
  {
   "cell_type": "code",
   "execution_count": 12,
   "metadata": {},
   "outputs": [],
   "source": [
    "# 4 key Playlists\n",
    "key_playlist = [\"Hot Hits UK\", \"Massive Dance Hits\", \"The Indie List\", \"New Music Friday\"]\n",
    "\n",
    "# select relevant playlists \n",
    "\n",
    "df_relevant = data[data[\"playlist_name\"].isin(key_playlist)]\n",
    "\n",
    "# Define Dependent Variable\n",
    "\n",
    "# def get_successful_artists(data):\n",
    "def get_successful_artists(data):\n",
    "    df_relevant = data[data[\"playlist_name\"].isin(key_playlist)]\n",
    "    success_artist = list(df_relevant[\"artist_name\"].unique())\n",
    "    return success_artist\n",
    "\n",
    "# def get_successful_before_2017(data):\n",
    "def get_successful_before_2017(data):\n",
    "    df_relevant = data[data[\"playlist_name\"].isin(key_playlist)]\n",
    "    success_before_2017_df = df_relevant[df_relevant[\"year\"].isin([2014, 2015, 2016])]\n",
    "    return list(success_before_2017_df[\"artist_name\"].unique())"
   ]
  },
  {
   "cell_type": "markdown",
   "metadata": {},
   "source": [
    "Now that we have created our dependent variable – whether an artist is successful or not, we can look at generating a set of features, based on the columns within our dataset, that we think might best explain the reasons for this success. "
   ]
  },
  {
   "cell_type": "markdown",
   "metadata": {},
   "source": [
    "**FEATURE ENGINEERING**\n",
    "\n",
    "There are a large number of factors that could have an impact on the success of an artist, such as the influence of a playlist, or the popularity of an artist in a certain geographical region. \n",
    "\n",
    "To build a predictive model for this problem, we first need to turn these (largely qualitative) factors into measurable quantities. Characteristics like ‘influence’ and ‘popularity’ need to be quantified and standardized for all artists, to allow for a fair comparison. \n",
    "\n",
    "The accurateness of these numerical estimates will be the fundamental driver of success for any model we build. \n",
    "There are many approaches one might take to generate features. Based on the data columns available to us, a sensible approach is to divide our feature set into three groups:\n",
    "\n",
    "1.\tArtist Features\n",
    "2.\tPlaylist Features\n",
    "3.\tUser-base features\n"
   ]
  },
  {
   "cell_type": "markdown",
   "metadata": {},
   "source": [
    "## Artist features\n",
    "\n",
    "*\tStream count\n",
    "*\tTotal Number of users\n",
    "*\tPassion Score \n",
    "\n",
    "The metric passion score is a metric suggested to us by Warner business analysts. \n",
    "\n",
    "It is defined as the number of stream divided by the total number of users. \n",
    "\n",
    "Warner analysts believe that repeated listens by a user is a far more indicative future success that simply total number of listens or total unique users. By including this in your model, we can evaluate whether this metric in fact might be of any significance."
   ]
  },
  {
   "cell_type": "markdown",
   "metadata": {},
   "source": [
    "<div class=\"alert alert-warning\">\n",
    "<b>ACTION: Artist features </b> \n",
    "\n",
    "<p> Write useful functions to create these new features. </p>\n",
    "\n",
    "\n",
    "</div>"
   ]
  },
  {
   "cell_type": "code",
   "execution_count": 13,
   "metadata": {},
   "outputs": [],
   "source": [
    "# unique artist in dataset\n",
    "artist = data[\"artist_name\"].unique()"
   ]
  },
  {
   "cell_type": "code",
   "execution_count": 14,
   "metadata": {},
   "outputs": [],
   "source": [
    "# Stream count per artist\n",
    "def stream_count(data):\n",
    "    result = []\n",
    "    for i in artist:\n",
    "        count = data[data[\"artist_name\"] == i][\"artist_name\"].count()\n",
    "        result.append(count)     \n",
    "    return result"
   ]
  },
  {
   "cell_type": "code",
   "execution_count": 15,
   "metadata": {},
   "outputs": [],
   "source": [
    "# Number of users per artist\n",
    "def user_count(data):\n",
    "    result = []\n",
    "    for i in artist: \n",
    "        subset = data[data[\"artist_name\"] == i]\n",
    "        count = len(subset[\"customer_id\"].unique())\n",
    "        result.append(count)\n",
    "    return result"
   ]
  },
  {
   "cell_type": "code",
   "execution_count": 16,
   "metadata": {},
   "outputs": [],
   "source": [
    "# Passion Score\n",
    "def passion_score(data):\n",
    "    result = [i / j for i, j in zip(stream_count(data), user_count(data))]\n",
    "    return result"
   ]
  },
  {
   "cell_type": "markdown",
   "metadata": {},
   "source": [
    "## Playlist Features\n",
    "\n",
    "Understanding an artist’s growth as a function of his/her movement across different playlists is potentially key to understanding how to identify and breakout new artists on Spotify. \n",
    "\n",
    "In turn, this could help us identify the most influential playlists and the reasons for their influence.\n",
    "\n",
    "One way to model the effect of playlists on an artist’s performance has been to include them as categorical features in our model, to note if there are any particular playlists or combinations of playlists that are responsible for propelling an artist to future success:\n",
    "\n",
    "### *Artist Feature 1 + Artist Feature 2 …. + Artist Feature N = Probability of Success*\n",
    "**\n",
    "Success (1) = Artist Features on Key Playlist\n",
    "Failure (0) = Artist Not Featured on Key Playlist\n",
    "**\n",
    "\n",
    "Where,\n",
    "\n",
    "**\n",
    "⇒Artist Feature N = Prior Playlist 1 + Prior Playlist 2 +…Prior Playlist N\n",
    "**\n"
   ]
  },
  {
   "cell_type": "markdown",
   "metadata": {},
   "source": [
    "Given that we have over 19,000 playlists in our dataset or 600 artists, using the playlists each artist has featured on, as categorical variables would lead to too many features and a very large, sparse matrix. \n",
    "\n",
    "Instead, we need to think of ways to summarize the impact of these playlists. One way to do this would be to consider the top 20 playlists each artist has featured on. \n",
    "\n",
    "Even better would be to come up with one metric that captures the net effect of all top 20 prior playlists, for each artist, rather including using all 20 playlists for each artists as binary variables. The intuition here is that if this metric as a whole has an influence on the performance of an artist, it would suggest that rather than the individual playlists themselves, it is a combination of their generalized features that affects the future performance of an artist. \n",
    "\n",
    "Accordingly, different combinations of playlists could equate to having the same impact on an artist, thereby allowing us to identify undervalued playlists.\n",
    "\n",
    "Some of the features such a metric could use is the number of unique users or ‘reach’, number of stream counts, and the passion score of each playlist\n",
    "\n",
    "* Prior Playlist Stream Counts\n",
    "* Prior Playlist Unique Users (Reach)\n",
    "* Prior Playlist Passion Score\n",
    "\n",
    "There are several other such features that you could generate to better capture the general characteristics of playlists, such as the average lift in stream counts and users they generate for artists that have featured on them. \n",
    "\n",
    "The code to calculate these metrics is provided below:"
   ]
  },
  {
   "cell_type": "markdown",
   "metadata": {},
   "source": [
    "<div class=\"alert alert-warning\">\n",
    "<b>ACTION: Playlist features </b> \n",
    "\n",
    "<p> Write useful functions to create new playlist features, like those listed in the cell above. </p>\n",
    "\n",
    "<p> Are there other sensible ones you could suggest, work in your group to think about what other features might be useful and whether you can calculate them with the data you have </p>\n",
    "\n",
    "</div>"
   ]
  },
  {
   "cell_type": "code",
   "execution_count": 17,
   "metadata": {},
   "outputs": [],
   "source": [
    "# average streams for artists in their prior 20 playlists\n",
    "def playlist_avg_stream_counts(data):\n",
    "    result = []\n",
    "    for i in artist:\n",
    "        subset = data[(data[\"artist_name\"] == i) & (~data[\"playlist_name\"].isin(key_playlist))]\n",
    "        stream_prior20 = subset.groupby('playlist_name')['log_time'].count().nlargest(n=20).sum()\n",
    "        result.append(stream_prior20 / 20)\n",
    "    return result\n",
    "\n",
    "\n",
    "# average users for artists in their prior 20 playlists \n",
    "def playlist_avg_number_of_users(data):\n",
    "    result = []\n",
    "    for i in artist: \n",
    "        subset = data[(data[\"artist_name\"] == i) & (~data[\"playlist_name\"].isin(key_playlist))]\n",
    "        prior20 = subset.groupby('playlist_name')[\"log_time\"].count().nlargest(n=20)\n",
    "        users = 0\n",
    "        for x in prior20.index:\n",
    "            users += subset.loc[subset[\"playlist_name\"] == x][\"customer_id\"].nunique()\n",
    "        result.append(users / 20)\n",
    "    return result\n",
    "            \n",
    "        \n",
    "# passion score for prior playlist\n",
    "def playlist_avg_passion_score(data):\n",
    "    result = [i / j for i, j in zip(playlist_avg_stream_counts(data), playlist_avg_number_of_users(data))]\n",
    "    return result\n",
    "\n"
   ]
  },
  {
   "cell_type": "markdown",
   "metadata": {},
   "source": [
    "## User-base features\n",
    "\n",
    "We can use the age and gender columns to create an audience profile per artist.\n",
    "*\tGender Percentage Breakdown\n",
    "*\tAge vector quantization \n"
   ]
  },
  {
   "cell_type": "markdown",
   "metadata": {},
   "source": [
    "<div class=\"alert alert-warning\">\n",
    "<b>ACTION: User features </b> \n",
    "\n",
    "<p> Write useful functions to create new user features, like those listed in the cell above. </p>\n",
    "\n",
    "<p> Are there other sensible ones you could suggest? Work in your group to think about what other features might be useful and whether you can calculate them with the data you have. Justify your reasoning. </p>\n",
    "\n",
    "</div>"
   ]
  },
  {
   "cell_type": "code",
   "execution_count": 18,
   "metadata": {},
   "outputs": [],
   "source": [
    "# Gender breakdown\n",
    "\n",
    "def gender_percentages(data):\n",
    "    result = []\n",
    "    for i in artist:\n",
    "        subset = data[data[\"artist_name\"] == i]\n",
    "        male = subset.loc[subset[\"gender\"] == \"male\"]\n",
    "        result.append(len(male) / len(subset))\n",
    "    return result\n"
   ]
  },
  {
   "cell_type": "code",
   "execution_count": 19,
   "metadata": {},
   "outputs": [],
   "source": [
    "# Age breakdown\n",
    "\n",
    "def age_percentages(data):\n",
    "    age_list = []\n",
    "    for i in artist:\n",
    "        artist_data = data[data['artist_name']== i]\n",
    "        artist_data = artist_data.drop_duplicates(subset = ['customer_id'])\n",
    "        bins = [0, 18, 25, 50, 100]\n",
    "        group_names = ['Dependent', 'YoungAdult', 'Adult', 'Senior']\n",
    "        categories = pd.cut(artist_data['age'], bins, labels=group_names)\n",
    "        x = {y:x/categories.value_counts().sum() for x,y in zip(categories.value_counts(),categories.value_counts().keys())} \n",
    "        age_list.append(x)\n",
    "    \n",
    "    df_age = pd.DataFrame(age_list, index = artist)\n",
    "    return df_age"
   ]
  },
  {
   "cell_type": "markdown",
   "metadata": {},
   "source": [
    "**Principle Component Analysis**\n",
    "\n",
    "The data also contains a partial region code of the listener. We might want to consider including the regional breakdown of streams per artist as a feature of our model, to know if streams for certain regions are particularly influential on the future performance of an artist. \n",
    "\n",
    "However, we have over 400 unique regions and like playlists, including them all would lead to too many features and a large sparse matrix. One way in which to extract relevant ‘generalized’ features of each region would be to incorporate census and demographic data, from publicly available datasets. \n",
    "\n",
    "This is however beyond the scope of this courswork. Instead, a better way to summarize the impact of regional variation in streams is to use dimensionality reduction techniques. Here we will use Principle Component Analysis (PCA) to capture the regional variation in stream count.\n",
    "\n",
    "PCA captures the majority of variation in the original feature set and represents it as a set of new orthogonal variables. Each ‘component’ of PCA is a linear combination of every feature, i.e. playlist in the dataset. Use **`scikit-learn`**’s PCA module (Pedregosa, et al., 2011) for generating PCA components.\n",
    "\n",
    "For a comprehensive understanding of how sklearn's PCA module works, please refer to the sklearn documentation. We will using 10 components of PCA in our model.\n",
    "\n",
    "*Note: We could also apply a similar method to condense variation in stream across the 19,600 different playlists in our dataset.*"
   ]
  },
  {
   "cell_type": "markdown",
   "metadata": {},
   "source": [
    "<div class=\"alert alert-warning\">\n",
    "<b>ACTION: PCA features </b> \n",
    "\n",
    "<p> Write useful functions to create new user feature based on regions data. </p>\n",
    "\n",
    "<p> Are there other sensible features you could suggest? Work in your group to think about what other features might be useful and whether you can calculate them with the data you have. Justify your reasoning. </p>\n",
    "\n",
    "</div>"
   ]
  },
  {
   "cell_type": "code",
   "execution_count": 20,
   "metadata": {},
   "outputs": [],
   "source": [
    "# PCA ANALYSIS\n",
    "\n",
    "def generate_pca(df,row_col, component_col, pca_n_comp=10, orig_comp_head = 1000):\n",
    "\n",
    "\n",
    "    # Split DF to deal with memory issues (break up df and process)\n",
    "\n",
    "    def dropna_splitdf(df,split_size):\n",
    "        split_df = np.array_split(df, split_size)\n",
    "        for i in split_df:\n",
    "            i = i.dropna(subset=[component_col])\n",
    "        return pd.concat(split_df)\n",
    "\n",
    "\n",
    "    split_df = True\n",
    "    if split_df:\n",
    "        df = dropna_splitdf(df,4)\n",
    "    else:\n",
    "        df = df.dropna(subset=[component_col])\n",
    "        \n",
    "    subset = df[df[component_col].isin(df[component_col].value_counts().head(orig_comp_head).index)]\n",
    "    pca_df = subset.groupby([row_col,component_col]).size().unstack(fill_value=0)\n",
    "    playlist_component_names = pca_df.columns\n",
    "\n",
    "    # Scale data before_PCA\n",
    "    from sklearn.preprocessing import scale\n",
    "    pca_df_scaled = pd.DataFrame(scale(pca_df))\n",
    "    \n",
    "    X = pca_df_scaled\n",
    "    \n",
    "    #conduct PCA\n",
    "    from sklearn import decomposition\n",
    "    pca = decomposition.PCA()\n",
    "    pca.fit(X)\n",
    "    decomposition.PCA(copy=True, iterated_power='auto', n_components=None, random_state=None,\n",
    "      svd_solver='auto', tol=0.0, whiten=False)\n",
    "    pca.n_components = pca_n_comp\n",
    "    \n",
    "    X_reduced = pca.fit_transform(X)\n",
    "    \n",
    "    var_exp_cumsum = pca.explained_variance_ratio_.cumsum()\n",
    "    var_exp_ratio = pca.explained_variance_ratio_\n",
    "    var_exp = pca.explained_variance_\n",
    "    mean = pca.mean_\n",
    "    components =pca.components_\n",
    "   \n",
    "\n",
    "    pca_final = pd.DataFrame(X_reduced)\n",
    "    pca_final.index = pca_df.index\n",
    "    pca_columns = [\"PCA1\", \"PCA2\", \"PCA3\", \"PCA4\", \"PCA5\", \"PCA6\", \"PCA7\", \"PCA8\", \"PCA9\", \"PCA10\"]\n",
    "    pca_final.columns = pca_columns\n",
    "    \n",
    "    return pca_final\n",
    "\n",
    "# output\n",
    "pca_output = generate_pca(df, \"artist_name\", \"region_code\")"
   ]
  },
  {
   "cell_type": "markdown",
   "metadata": {},
   "source": [
    "<div class=\"alert alert-danger\">\n",
    "<b>WARNING: PCA features </b> \n",
    "    \n",
    "<p>If you struggle to complete this section successfully <b>please email me</b> and we will provide code to compute the new features. This will help with performance of the classifier in the next stage.</p>\n",
    "</div>"
   ]
  },
  {
   "cell_type": "markdown",
   "metadata": {},
   "source": [
    "Check the PCA feature table to make sure the dataframe looks as expected. Comment on anything the looks important. "
   ]
  },
  {
   "cell_type": "code",
   "execution_count": 21,
   "metadata": {},
   "outputs": [
    {
     "data": {
      "text/html": [
       "<div>\n",
       "<style scoped>\n",
       "    .dataframe tbody tr th:only-of-type {\n",
       "        vertical-align: middle;\n",
       "    }\n",
       "\n",
       "    .dataframe tbody tr th {\n",
       "        vertical-align: top;\n",
       "    }\n",
       "\n",
       "    .dataframe thead th {\n",
       "        text-align: right;\n",
       "    }\n",
       "</style>\n",
       "<table border=\"1\" class=\"dataframe\">\n",
       "  <thead>\n",
       "    <tr style=\"text-align: right;\">\n",
       "      <th></th>\n",
       "      <th>PCA1</th>\n",
       "      <th>PCA2</th>\n",
       "      <th>PCA3</th>\n",
       "      <th>PCA4</th>\n",
       "      <th>PCA5</th>\n",
       "      <th>PCA6</th>\n",
       "      <th>PCA7</th>\n",
       "      <th>PCA8</th>\n",
       "      <th>PCA9</th>\n",
       "      <th>PCA10</th>\n",
       "    </tr>\n",
       "    <tr>\n",
       "      <th>artist_name</th>\n",
       "      <th></th>\n",
       "      <th></th>\n",
       "      <th></th>\n",
       "      <th></th>\n",
       "      <th></th>\n",
       "      <th></th>\n",
       "      <th></th>\n",
       "      <th></th>\n",
       "      <th></th>\n",
       "      <th></th>\n",
       "    </tr>\n",
       "  </thead>\n",
       "  <tbody>\n",
       "    <tr>\n",
       "      <th>#90s Update</th>\n",
       "      <td>-2.996537</td>\n",
       "      <td>0.133219</td>\n",
       "      <td>-0.222020</td>\n",
       "      <td>-0.000687</td>\n",
       "      <td>0.134310</td>\n",
       "      <td>-0.073294</td>\n",
       "      <td>-0.207352</td>\n",
       "      <td>-0.003388</td>\n",
       "      <td>0.021987</td>\n",
       "      <td>-0.005801</td>\n",
       "    </tr>\n",
       "    <tr>\n",
       "      <th>17 Memphis</th>\n",
       "      <td>-2.995259</td>\n",
       "      <td>0.133363</td>\n",
       "      <td>-0.223186</td>\n",
       "      <td>-0.001360</td>\n",
       "      <td>0.133395</td>\n",
       "      <td>-0.074303</td>\n",
       "      <td>-0.207982</td>\n",
       "      <td>-0.003143</td>\n",
       "      <td>0.020686</td>\n",
       "      <td>-0.006841</td>\n",
       "    </tr>\n",
       "    <tr>\n",
       "      <th>2D</th>\n",
       "      <td>-3.001679</td>\n",
       "      <td>0.133770</td>\n",
       "      <td>-0.220709</td>\n",
       "      <td>-0.000315</td>\n",
       "      <td>0.135594</td>\n",
       "      <td>-0.074014</td>\n",
       "      <td>-0.207293</td>\n",
       "      <td>-0.003524</td>\n",
       "      <td>0.022019</td>\n",
       "      <td>-0.006043</td>\n",
       "    </tr>\n",
       "    <tr>\n",
       "      <th>3JS</th>\n",
       "      <td>-2.999616</td>\n",
       "      <td>0.133297</td>\n",
       "      <td>-0.221554</td>\n",
       "      <td>-0.000377</td>\n",
       "      <td>0.135204</td>\n",
       "      <td>-0.074663</td>\n",
       "      <td>-0.207142</td>\n",
       "      <td>-0.003532</td>\n",
       "      <td>0.021818</td>\n",
       "      <td>-0.006187</td>\n",
       "    </tr>\n",
       "    <tr>\n",
       "      <th>99 Percent</th>\n",
       "      <td>-2.421869</td>\n",
       "      <td>0.069814</td>\n",
       "      <td>-0.449367</td>\n",
       "      <td>-0.085404</td>\n",
       "      <td>0.003791</td>\n",
       "      <td>-0.060368</td>\n",
       "      <td>-0.240970</td>\n",
       "      <td>0.031882</td>\n",
       "      <td>-0.039502</td>\n",
       "      <td>-0.039597</td>\n",
       "    </tr>\n",
       "  </tbody>\n",
       "</table>\n",
       "</div>"
      ],
      "text/plain": [
       "                 PCA1      PCA2      PCA3      PCA4      PCA5      PCA6  \\\n",
       "artist_name                                                               \n",
       "#90s Update -2.996537  0.133219 -0.222020 -0.000687  0.134310 -0.073294   \n",
       "17 Memphis  -2.995259  0.133363 -0.223186 -0.001360  0.133395 -0.074303   \n",
       "2D          -3.001679  0.133770 -0.220709 -0.000315  0.135594 -0.074014   \n",
       "3JS         -2.999616  0.133297 -0.221554 -0.000377  0.135204 -0.074663   \n",
       "99 Percent  -2.421869  0.069814 -0.449367 -0.085404  0.003791 -0.060368   \n",
       "\n",
       "                 PCA7      PCA8      PCA9     PCA10  \n",
       "artist_name                                          \n",
       "#90s Update -0.207352 -0.003388  0.021987 -0.005801  \n",
       "17 Memphis  -0.207982 -0.003143  0.020686 -0.006841  \n",
       "2D          -0.207293 -0.003524  0.022019 -0.006043  \n",
       "3JS         -0.207142 -0.003532  0.021818 -0.006187  \n",
       "99 Percent  -0.240970  0.031882 -0.039502 -0.039597  "
      ]
     },
     "execution_count": 21,
     "metadata": {},
     "output_type": "execute_result"
    }
   ],
   "source": [
    "# PCA feature table\n",
    "pca_output.head()"
   ]
  },
  {
   "cell_type": "markdown",
   "metadata": {},
   "source": [
    "<div class=\"alert alert-warning\">\n",
    "<b>ACTION: PCA plot </b> \n",
    "\n",
    "<p> Use a figure to show which components of PCA explain the majority of variation in the data. Accordingly, use only those components in your further analysis.</p>\n",
    "\n",
    "</div>"
   ]
  },
  {
   "cell_type": "markdown",
   "metadata": {},
   "source": [
    "**Data transformation**\n",
    "\n",
    "The final step is to decide whether or not to normalize/transform any of the features. \n",
    "\n",
    "We should normalize data if we are more interested in the relative rather than absolute differences between variables. Given that all the numerical features in our dataset (centrality, lift, influence, gender breakdown, age breakdown) were meaningful, i.e. distances did make a difference;"
   ]
  },
  {
   "cell_type": "markdown",
   "metadata": {},
   "source": [
    "<div class=\"alert alert-warning\">\n",
    "<b>ACTION: Feature transformation </b> \n",
    "\n",
    "<p> Comment on whether transforming particular features (influence, gender breakdown, age breakdown) is useful. Calculate the transformation where necessary.</p>\n",
    "\n",
    "</div>"
   ]
  },
  {
   "cell_type": "markdown",
   "metadata": {},
   "source": [
    "\n",
    "Now we can combine all of our features that we generated above, into a dataframe that can be processed by a machine learning algorithm:"
   ]
  },
  {
   "cell_type": "code",
   "execution_count": 22,
   "metadata": {
    "scrolled": true
   },
   "outputs": [
    {
     "data": {
      "text/html": [
       "<div>\n",
       "<style scoped>\n",
       "    .dataframe tbody tr th:only-of-type {\n",
       "        vertical-align: middle;\n",
       "    }\n",
       "\n",
       "    .dataframe tbody tr th {\n",
       "        vertical-align: top;\n",
       "    }\n",
       "\n",
       "    .dataframe thead th {\n",
       "        text-align: right;\n",
       "    }\n",
       "</style>\n",
       "<table border=\"1\" class=\"dataframe\">\n",
       "  <thead>\n",
       "    <tr style=\"text-align: right;\">\n",
       "      <th></th>\n",
       "      <th>stream_count</th>\n",
       "      <th>user_count</th>\n",
       "      <th>passion_score</th>\n",
       "      <th>playlist_stream</th>\n",
       "      <th>playlist_users</th>\n",
       "      <th>playlist_passion</th>\n",
       "      <th>gender_perc</th>\n",
       "    </tr>\n",
       "  </thead>\n",
       "  <tbody>\n",
       "    <tr>\n",
       "      <th>Sturgill Simpson</th>\n",
       "      <td>4898</td>\n",
       "      <td>4161</td>\n",
       "      <td>1.177121</td>\n",
       "      <td>90.25</td>\n",
       "      <td>86.60</td>\n",
       "      <td>86.60</td>\n",
       "      <td>0.651695</td>\n",
       "    </tr>\n",
       "    <tr>\n",
       "      <th>Delafe</th>\n",
       "      <td>32</td>\n",
       "      <td>25</td>\n",
       "      <td>1.280000</td>\n",
       "      <td>0.00</td>\n",
       "      <td>0.00</td>\n",
       "      <td>0.00</td>\n",
       "      <td>0.250000</td>\n",
       "    </tr>\n",
       "    <tr>\n",
       "      <th>Willy William</th>\n",
       "      <td>1916</td>\n",
       "      <td>1607</td>\n",
       "      <td>1.192284</td>\n",
       "      <td>9.40</td>\n",
       "      <td>9.10</td>\n",
       "      <td>9.10</td>\n",
       "      <td>0.519833</td>\n",
       "    </tr>\n",
       "    <tr>\n",
       "      <th>Benjamin Beilman</th>\n",
       "      <td>74</td>\n",
       "      <td>46</td>\n",
       "      <td>1.608696</td>\n",
       "      <td>0.00</td>\n",
       "      <td>0.00</td>\n",
       "      <td>0.00</td>\n",
       "      <td>0.635135</td>\n",
       "    </tr>\n",
       "    <tr>\n",
       "      <th>Topic</th>\n",
       "      <td>4953</td>\n",
       "      <td>4682</td>\n",
       "      <td>1.057881</td>\n",
       "      <td>117.70</td>\n",
       "      <td>115.10</td>\n",
       "      <td>115.10</td>\n",
       "      <td>0.555825</td>\n",
       "    </tr>\n",
       "    <tr>\n",
       "      <th>...</th>\n",
       "      <td>...</td>\n",
       "      <td>...</td>\n",
       "      <td>...</td>\n",
       "      <td>...</td>\n",
       "      <td>...</td>\n",
       "      <td>...</td>\n",
       "      <td>...</td>\n",
       "    </tr>\n",
       "    <tr>\n",
       "      <th>Will Joseph Cook</th>\n",
       "      <td>15322</td>\n",
       "      <td>12585</td>\n",
       "      <td>1.217481</td>\n",
       "      <td>223.55</td>\n",
       "      <td>217.75</td>\n",
       "      <td>217.75</td>\n",
       "      <td>0.458622</td>\n",
       "    </tr>\n",
       "    <tr>\n",
       "      <th>WSTRN</th>\n",
       "      <td>164885</td>\n",
       "      <td>144711</td>\n",
       "      <td>1.139409</td>\n",
       "      <td>926.05</td>\n",
       "      <td>887.50</td>\n",
       "      <td>887.50</td>\n",
       "      <td>0.467362</td>\n",
       "    </tr>\n",
       "    <tr>\n",
       "      <th>YONAKA</th>\n",
       "      <td>340</td>\n",
       "      <td>336</td>\n",
       "      <td>1.011905</td>\n",
       "      <td>9.50</td>\n",
       "      <td>9.50</td>\n",
       "      <td>9.50</td>\n",
       "      <td>0.647059</td>\n",
       "    </tr>\n",
       "    <tr>\n",
       "      <th>Zak Abel</th>\n",
       "      <td>26966</td>\n",
       "      <td>23417</td>\n",
       "      <td>1.151557</td>\n",
       "      <td>337.70</td>\n",
       "      <td>332.15</td>\n",
       "      <td>332.15</td>\n",
       "      <td>0.464474</td>\n",
       "    </tr>\n",
       "    <tr>\n",
       "      <th>Anne-Marie</th>\n",
       "      <td>247934</td>\n",
       "      <td>220413</td>\n",
       "      <td>1.124861</td>\n",
       "      <td>1835.30</td>\n",
       "      <td>1765.45</td>\n",
       "      <td>1765.45</td>\n",
       "      <td>0.393209</td>\n",
       "    </tr>\n",
       "  </tbody>\n",
       "</table>\n",
       "<p>661 rows × 7 columns</p>\n",
       "</div>"
      ],
      "text/plain": [
       "                  stream_count  user_count  passion_score  playlist_stream  \\\n",
       "Sturgill Simpson          4898        4161       1.177121            90.25   \n",
       "Delafe                      32          25       1.280000             0.00   \n",
       "Willy William             1916        1607       1.192284             9.40   \n",
       "Benjamin Beilman            74          46       1.608696             0.00   \n",
       "Topic                     4953        4682       1.057881           117.70   \n",
       "...                        ...         ...            ...              ...   \n",
       "Will Joseph Cook         15322       12585       1.217481           223.55   \n",
       "WSTRN                   164885      144711       1.139409           926.05   \n",
       "YONAKA                     340         336       1.011905             9.50   \n",
       "Zak Abel                 26966       23417       1.151557           337.70   \n",
       "Anne-Marie              247934      220413       1.124861          1835.30   \n",
       "\n",
       "                  playlist_users  playlist_passion  gender_perc  \n",
       "Sturgill Simpson           86.60             86.60     0.651695  \n",
       "Delafe                      0.00              0.00     0.250000  \n",
       "Willy William               9.10              9.10     0.519833  \n",
       "Benjamin Beilman            0.00              0.00     0.635135  \n",
       "Topic                     115.10            115.10     0.555825  \n",
       "...                          ...               ...          ...  \n",
       "Will Joseph Cook          217.75            217.75     0.458622  \n",
       "WSTRN                     887.50            887.50     0.467362  \n",
       "YONAKA                      9.50              9.50     0.647059  \n",
       "Zak Abel                  332.15            332.15     0.464474  \n",
       "Anne-Marie               1765.45           1765.45     0.393209  \n",
       "\n",
       "[661 rows x 7 columns]"
      ]
     },
     "execution_count": 22,
     "metadata": {},
     "output_type": "execute_result"
    }
   ],
   "source": [
    "# create final dataframe with artist features\n",
    "\n",
    "attributes = [\"stream_count\", \"user_count\", \"passion_score\", \"playlist_stream\", \"playlist_users\", \"playlist_passion\", \"gender_perc\"]\n",
    "final_df = pd.DataFrame(list(zip(stream_count(df),user_count(df),passion_score(df),\n",
    "                                 playlist_avg_stream_counts(df), playlist_avg_number_of_users(df),\n",
    "                                 playlist_avg_number_of_users(df),gender_percentages(df))),\n",
    "                        index = artist,\n",
    "                        columns = attributes)\n",
    "\n",
    "final_df"
   ]
  },
  {
   "cell_type": "code",
   "execution_count": 23,
   "metadata": {
    "scrolled": true
   },
   "outputs": [
    {
     "name": "stderr",
     "output_type": "stream",
     "text": [
      "<ipython-input-19-48bf720d4075>:11: RuntimeWarning: invalid value encountered in long_scalars\n",
      "  x = {y:x/categories.value_counts().sum() for x,y in zip(categories.value_counts(),categories.value_counts().keys())}\n"
     ]
    }
   ],
   "source": [
    "#concat final dataframe with age percentage and PCA features\n",
    "age_perc_df = age_percentages(df)\n",
    "\n",
    "final_df = pd.concat([final_df, age_perc_df], axis = 1)\n",
    "final_df = pd.concat([final_df, pca_output], axis = 1)"
   ]
  },
  {
   "cell_type": "markdown",
   "metadata": {},
   "source": [
    "<div class=\"alert alert-warning\">\n",
    "<b>ACTION: Feature transformation </b> \n",
    "\n",
    "<p> Comment on whether transforming particular features (influence, gender breakdown, age breakdown) is useful. Calculate the transformation where necessary.</p>\n",
    "\n",
    "</div>"
   ]
  },
  {
   "cell_type": "markdown",
   "metadata": {},
   "source": [
    "**Preprocessing**\n",
    "\n",
    "Before we can run any models on our dataset, we must make sure it is prepared and cleaned to avoid errors in results. This stage is generally refered to as preprocessing.\n",
    "\n",
    "To begin with, we need to deal with missing data in the dataframe - the ML algorithm will not be able to process NaN or missing values. \n",
    "\n",
    "For this study, we will be imputing missing numerical values, and filling any one which we were not able to imput, with 0."
   ]
  },
  {
   "cell_type": "markdown",
   "metadata": {},
   "source": [
    "<div class=\"alert alert-warning\">\n",
    "<b>ACTION: Missing values </b> \n",
    "\n",
    "<p> Use the <b>Imputer</b> class to alter your final Dataframe that contains your feature vector.</p>\n",
    "\n",
    "</div>"
   ]
  },
  {
   "cell_type": "code",
   "execution_count": 24,
   "metadata": {
    "scrolled": true
   },
   "outputs": [],
   "source": [
    "# Handle missing values\n",
    "\n",
    "# observe missing vaues\n",
    "final_df.isna().sum()\n",
    "\n",
    "#from sklearn.preprocessing import Imputer\n",
    "\n",
    "from sklearn.impute import SimpleImputer\n",
    "imputer = SimpleImputer(strategy=\"median\")\n",
    "\n",
    "#imp = Imputer(missing_values='NaN', strategy='median', axis=0)\n",
    "\n",
    "cleaned_data = imputer.fit_transform(final_df)\n",
    "\n",
    "# create cleaned final_df\n",
    "\n",
    "cleaned_final_df = pd.DataFrame(cleaned_data, index = final_df.index, columns = final_df.columns)"
   ]
  },
  {
   "cell_type": "markdown",
   "metadata": {},
   "source": [
    "Next, we need to make sure that none of the variables going into the model are collinear, and if so, we need to remove those variables that are highly correlated."
   ]
  },
  {
   "cell_type": "markdown",
   "metadata": {},
   "source": [
    "<div class=\"alert alert-warning\">\n",
    "<b>ACTION: Multi-collinearity </b> \n",
    "\n",
    "<p> Check and deal with multi-collinearity in your feature set.</p>\n",
    "\n",
    "</div>"
   ]
  },
  {
   "cell_type": "code",
   "execution_count": 25,
   "metadata": {
    "scrolled": false
   },
   "outputs": [
    {
     "data": {
      "text/plain": [
       "<AxesSubplot:>"
      ]
     },
     "execution_count": 25,
     "metadata": {},
     "output_type": "execute_result"
    },
    {
     "data": {
      "image/png": "[encoded data removed]",
      "text/plain": [
       "<Figure size 1080x1080 with 2 Axes>"
      ]
     },
     "metadata": {},
     "output_type": "display_data"
    }
   ],
   "source": [
    "# Check for multicollinearity\n",
    "\n",
    "import seaborn as sns\n",
    "\n",
    "corr = final_df.corr()\n",
    "plt.figure(figsize = (15,15))\n",
    "sns.heatmap(corr, cmap=\"Reds\", annot=True)"
   ]
  },
  {
   "cell_type": "code",
   "execution_count": 26,
   "metadata": {
    "scrolled": true
   },
   "outputs": [
    {
     "name": "stdout",
     "output_type": "stream",
     "text": [
      "Requirement already satisfied: statsmodels in /Users/brennanyap/opt/anaconda3/lib/python3.8/site-packages (0.12.2)\n",
      "Requirement already satisfied: pandas>=0.21 in /Users/brennanyap/opt/anaconda3/lib/python3.8/site-packages (from statsmodels) (1.2.4)\n",
      "Requirement already satisfied: patsy>=0.5 in /Users/brennanyap/opt/anaconda3/lib/python3.8/site-packages (from statsmodels) (0.5.1)\n",
      "Requirement already satisfied: numpy>=1.15 in /Users/brennanyap/opt/anaconda3/lib/python3.8/site-packages (from statsmodels) (1.20.1)\n",
      "Requirement already satisfied: scipy>=1.1 in /Users/brennanyap/opt/anaconda3/lib/python3.8/site-packages (from statsmodels) (1.6.2)\n",
      "Requirement already satisfied: python-dateutil>=2.7.3 in /Users/brennanyap/opt/anaconda3/lib/python3.8/site-packages (from pandas>=0.21->statsmodels) (2.8.1)\n",
      "Requirement already satisfied: pytz>=2017.3 in /Users/brennanyap/opt/anaconda3/lib/python3.8/site-packages (from pandas>=0.21->statsmodels) (2021.1)\n",
      "Requirement already satisfied: six in /Users/brennanyap/opt/anaconda3/lib/python3.8/site-packages (from patsy>=0.5->statsmodels) (1.15.0)\n"
     ]
    }
   ],
   "source": [
    "# import relevant packages\n",
    "!pip install statsmodels\n",
    "from statsmodels.stats.outliers_influence import variance_inflation_factor as vif"
   ]
  },
  {
   "cell_type": "code",
   "execution_count": 27,
   "metadata": {
    "scrolled": true
   },
   "outputs": [
    {
     "name": "stderr",
     "output_type": "stream",
     "text": [
      "/Users/brennanyap/opt/anaconda3/lib/python3.8/site-packages/statsmodels/stats/outliers_influence.py:193: RuntimeWarning: divide by zero encountered in double_scalars\n",
      "  vif = 1. / (1. - r_squared_i)\n"
     ]
    },
    {
     "data": {
      "text/html": [
       "<div>\n",
       "<style scoped>\n",
       "    .dataframe tbody tr th:only-of-type {\n",
       "        vertical-align: middle;\n",
       "    }\n",
       "\n",
       "    .dataframe tbody tr th {\n",
       "        vertical-align: top;\n",
       "    }\n",
       "\n",
       "    .dataframe thead th {\n",
       "        text-align: right;\n",
       "    }\n",
       "</style>\n",
       "<table border=\"1\" class=\"dataframe\">\n",
       "  <thead>\n",
       "    <tr style=\"text-align: right;\">\n",
       "      <th></th>\n",
       "      <th>feature</th>\n",
       "      <th>VIF</th>\n",
       "    </tr>\n",
       "  </thead>\n",
       "  <tbody>\n",
       "    <tr>\n",
       "      <th>0</th>\n",
       "      <td>stream_count</td>\n",
       "      <td>6.789309e+02</td>\n",
       "    </tr>\n",
       "    <tr>\n",
       "      <th>1</th>\n",
       "      <td>user_count</td>\n",
       "      <td>2.633658e+02</td>\n",
       "    </tr>\n",
       "    <tr>\n",
       "      <th>2</th>\n",
       "      <td>passion_score</td>\n",
       "      <td>3.058245e+00</td>\n",
       "    </tr>\n",
       "    <tr>\n",
       "      <th>3</th>\n",
       "      <td>playlist_stream</td>\n",
       "      <td>2.103319e+04</td>\n",
       "    </tr>\n",
       "    <tr>\n",
       "      <th>4</th>\n",
       "      <td>playlist_users</td>\n",
       "      <td>inf</td>\n",
       "    </tr>\n",
       "    <tr>\n",
       "      <th>5</th>\n",
       "      <td>playlist_passion</td>\n",
       "      <td>inf</td>\n",
       "    </tr>\n",
       "    <tr>\n",
       "      <th>6</th>\n",
       "      <td>gender_perc</td>\n",
       "      <td>7.851475e+00</td>\n",
       "    </tr>\n",
       "    <tr>\n",
       "      <th>7</th>\n",
       "      <td>Adult</td>\n",
       "      <td>8.231320e+00</td>\n",
       "    </tr>\n",
       "    <tr>\n",
       "      <th>8</th>\n",
       "      <td>YoungAdult</td>\n",
       "      <td>5.475302e+00</td>\n",
       "    </tr>\n",
       "    <tr>\n",
       "      <th>9</th>\n",
       "      <td>Senior</td>\n",
       "      <td>1.724559e+00</td>\n",
       "    </tr>\n",
       "    <tr>\n",
       "      <th>10</th>\n",
       "      <td>Dependent</td>\n",
       "      <td>1.845955e+00</td>\n",
       "    </tr>\n",
       "    <tr>\n",
       "      <th>11</th>\n",
       "      <td>PCA1</td>\n",
       "      <td>3.912449e+02</td>\n",
       "    </tr>\n",
       "    <tr>\n",
       "      <th>12</th>\n",
       "      <td>PCA2</td>\n",
       "      <td>1.441091e+00</td>\n",
       "    </tr>\n",
       "    <tr>\n",
       "      <th>13</th>\n",
       "      <td>PCA3</td>\n",
       "      <td>5.772004e+00</td>\n",
       "    </tr>\n",
       "    <tr>\n",
       "      <th>14</th>\n",
       "      <td>PCA4</td>\n",
       "      <td>1.483467e+00</td>\n",
       "    </tr>\n",
       "    <tr>\n",
       "      <th>15</th>\n",
       "      <td>PCA5</td>\n",
       "      <td>2.512415e+00</td>\n",
       "    </tr>\n",
       "    <tr>\n",
       "      <th>16</th>\n",
       "      <td>PCA6</td>\n",
       "      <td>1.386987e+00</td>\n",
       "    </tr>\n",
       "    <tr>\n",
       "      <th>17</th>\n",
       "      <td>PCA7</td>\n",
       "      <td>1.753005e+00</td>\n",
       "    </tr>\n",
       "    <tr>\n",
       "      <th>18</th>\n",
       "      <td>PCA8</td>\n",
       "      <td>1.082247e+00</td>\n",
       "    </tr>\n",
       "    <tr>\n",
       "      <th>19</th>\n",
       "      <td>PCA9</td>\n",
       "      <td>1.335046e+00</td>\n",
       "    </tr>\n",
       "    <tr>\n",
       "      <th>20</th>\n",
       "      <td>PCA10</td>\n",
       "      <td>1.688601e+00</td>\n",
       "    </tr>\n",
       "  </tbody>\n",
       "</table>\n",
       "</div>"
      ],
      "text/plain": [
       "             feature           VIF\n",
       "0       stream_count  6.789309e+02\n",
       "1         user_count  2.633658e+02\n",
       "2      passion_score  3.058245e+00\n",
       "3    playlist_stream  2.103319e+04\n",
       "4     playlist_users           inf\n",
       "5   playlist_passion           inf\n",
       "6        gender_perc  7.851475e+00\n",
       "7              Adult  8.231320e+00\n",
       "8         YoungAdult  5.475302e+00\n",
       "9             Senior  1.724559e+00\n",
       "10         Dependent  1.845955e+00\n",
       "11              PCA1  3.912449e+02\n",
       "12              PCA2  1.441091e+00\n",
       "13              PCA3  5.772004e+00\n",
       "14              PCA4  1.483467e+00\n",
       "15              PCA5  2.512415e+00\n",
       "16              PCA6  1.386987e+00\n",
       "17              PCA7  1.753005e+00\n",
       "18              PCA8  1.082247e+00\n",
       "19              PCA9  1.335046e+00\n",
       "20             PCA10  1.688601e+00"
      ]
     },
     "execution_count": 27,
     "metadata": {},
     "output_type": "execute_result"
    }
   ],
   "source": [
    "# calculate the Variance Inflation Factor (VIF) for each attribute\n",
    "vif_df = pd.DataFrame()\n",
    "vif_df[\"feature\"] = cleaned_final_df.columns\n",
    "vif_df[\"VIF\"] = [vif(cleaned_final_df.values, i) for i in range(len(cleaned_final_df.columns))]\n",
    "vif_df"
   ]
  },
  {
   "cell_type": "code",
   "execution_count": 28,
   "metadata": {},
   "outputs": [],
   "source": [
    "# Remove one of highly correlated varibles (test removing other as well)\n",
    "\n",
    "feature_set = cleaned_final_df.drop(labels = [\"stream_count\", \"user_count\", \"playlist_users\", \"playlist_stream\", \"PCA1\"], axis = 1)"
   ]
  },
  {
   "cell_type": "code",
   "execution_count": 29,
   "metadata": {},
   "outputs": [
    {
     "data": {
      "text/html": [
       "<div>\n",
       "<style scoped>\n",
       "    .dataframe tbody tr th:only-of-type {\n",
       "        vertical-align: middle;\n",
       "    }\n",
       "\n",
       "    .dataframe tbody tr th {\n",
       "        vertical-align: top;\n",
       "    }\n",
       "\n",
       "    .dataframe thead th {\n",
       "        text-align: right;\n",
       "    }\n",
       "</style>\n",
       "<table border=\"1\" class=\"dataframe\">\n",
       "  <thead>\n",
       "    <tr style=\"text-align: right;\">\n",
       "      <th></th>\n",
       "      <th>feature</th>\n",
       "      <th>VIF</th>\n",
       "    </tr>\n",
       "  </thead>\n",
       "  <tbody>\n",
       "    <tr>\n",
       "      <th>0</th>\n",
       "      <td>passion_score</td>\n",
       "      <td>3.046766</td>\n",
       "    </tr>\n",
       "    <tr>\n",
       "      <th>1</th>\n",
       "      <td>playlist_passion</td>\n",
       "      <td>1.118300</td>\n",
       "    </tr>\n",
       "    <tr>\n",
       "      <th>2</th>\n",
       "      <td>gender_perc</td>\n",
       "      <td>7.826774</td>\n",
       "    </tr>\n",
       "    <tr>\n",
       "      <th>3</th>\n",
       "      <td>Adult</td>\n",
       "      <td>4.534283</td>\n",
       "    </tr>\n",
       "    <tr>\n",
       "      <th>4</th>\n",
       "      <td>YoungAdult</td>\n",
       "      <td>3.141415</td>\n",
       "    </tr>\n",
       "    <tr>\n",
       "      <th>5</th>\n",
       "      <td>Senior</td>\n",
       "      <td>1.433171</td>\n",
       "    </tr>\n",
       "    <tr>\n",
       "      <th>6</th>\n",
       "      <td>Dependent</td>\n",
       "      <td>1.504409</td>\n",
       "    </tr>\n",
       "    <tr>\n",
       "      <th>7</th>\n",
       "      <td>PCA2</td>\n",
       "      <td>1.001188</td>\n",
       "    </tr>\n",
       "    <tr>\n",
       "      <th>8</th>\n",
       "      <td>PCA3</td>\n",
       "      <td>1.008513</td>\n",
       "    </tr>\n",
       "    <tr>\n",
       "      <th>9</th>\n",
       "      <td>PCA4</td>\n",
       "      <td>1.001003</td>\n",
       "    </tr>\n",
       "    <tr>\n",
       "      <th>10</th>\n",
       "      <td>PCA5</td>\n",
       "      <td>1.004687</td>\n",
       "    </tr>\n",
       "    <tr>\n",
       "      <th>11</th>\n",
       "      <td>PCA6</td>\n",
       "      <td>1.002311</td>\n",
       "    </tr>\n",
       "    <tr>\n",
       "      <th>12</th>\n",
       "      <td>PCA7</td>\n",
       "      <td>1.010690</td>\n",
       "    </tr>\n",
       "    <tr>\n",
       "      <th>13</th>\n",
       "      <td>PCA8</td>\n",
       "      <td>1.000370</td>\n",
       "    </tr>\n",
       "    <tr>\n",
       "      <th>14</th>\n",
       "      <td>PCA9</td>\n",
       "      <td>1.000688</td>\n",
       "    </tr>\n",
       "    <tr>\n",
       "      <th>15</th>\n",
       "      <td>PCA10</td>\n",
       "      <td>1.020369</td>\n",
       "    </tr>\n",
       "  </tbody>\n",
       "</table>\n",
       "</div>"
      ],
      "text/plain": [
       "             feature       VIF\n",
       "0      passion_score  3.046766\n",
       "1   playlist_passion  1.118300\n",
       "2        gender_perc  7.826774\n",
       "3              Adult  4.534283\n",
       "4         YoungAdult  3.141415\n",
       "5             Senior  1.433171\n",
       "6          Dependent  1.504409\n",
       "7               PCA2  1.001188\n",
       "8               PCA3  1.008513\n",
       "9               PCA4  1.001003\n",
       "10              PCA5  1.004687\n",
       "11              PCA6  1.002311\n",
       "12              PCA7  1.010690\n",
       "13              PCA8  1.000370\n",
       "14              PCA9  1.000688\n",
       "15             PCA10  1.020369"
      ]
     },
     "execution_count": 29,
     "metadata": {},
     "output_type": "execute_result"
    }
   ],
   "source": [
    "# vif after removing variables \n",
    "vif_df = pd.DataFrame()\n",
    "vif_df[\"feature\"] = feature_set.columns\n",
    "vif_df[\"VIF\"] = [vif(feature_set.values, i) for i in range(len(feature_set.columns))]\n",
    "vif_df"
   ]
  },
  {
   "cell_type": "markdown",
   "metadata": {},
   "source": [
    "Finally, we want to take a look out the class balance in our dependent variable."
   ]
  },
  {
   "cell_type": "markdown",
   "metadata": {},
   "source": [
    "Given the natural bias in our data, i.e. there are more cases of failure than of success in the training and test sets; there is a strong bias toward predicting ‘failure’. Based on our complete (unbalanced classes) training sample, if the model only predicted ‘failure’, we would achieve an accuracy of 88.8%. \n",
    "\n",
    "To give us a more even class balance, without losing too much data, we will sample data from the bigger class to achive a class balance closer to 60-40. \n",
    "\n",
    "There is another way to determine the accuracy of our predictions using a confusion matrix and ROC curve, but more on that later. For now, we will go ahead with sampling the bigger class:"
   ]
  },
  {
   "cell_type": "markdown",
   "metadata": {},
   "source": [
    "<div class=\"alert alert-warning\">\n",
    "<b>ACTION: Class balance </b> \n",
    "\n",
    "<p> Calculate and comment on class balance.</p>\n",
    "\n",
    "</div>"
   ]
  },
  {
   "cell_type": "code",
   "execution_count": 30,
   "metadata": {
    "scrolled": true
   },
   "outputs": [
    {
     "name": "stdout",
     "output_type": "stream",
     "text": [
      "Class Balance =  87.44326777609682\n",
      "nrow: 661\n"
     ]
    }
   ],
   "source": [
    "# create dependent variable\n",
    "successful_artist = get_successful_artists(data)\n",
    "feature_set[\"success\"] = None\n",
    "\n",
    "for i in feature_set.index:\n",
    "    if i in successful_artist:\n",
    "        feature_set.loc[i,\"success\"] = 1\n",
    "    else:\n",
    "        feature_set.loc[i,\"success\"] = 0\n",
    "        \n",
    "# Class Balance        \n",
    "class_balance = feature_set.success.value_counts()[0] / feature_set.success.value_counts().sum()*100\n",
    "print('Class Balance = ',class_balance)\n",
    "print('nrow:',len(final_df.index))"
   ]
  },
  {
   "cell_type": "code",
   "execution_count": 31,
   "metadata": {},
   "outputs": [
    {
     "name": "stdout",
     "output_type": "stream",
     "text": [
      "Class Balance =  60.09615384615385\n",
      "nrow: 208\n"
     ]
    }
   ],
   "source": [
    "# dataset after class rebalancing\n",
    "from sklearn.model_selection import train_test_split\n",
    "\n",
    "success_df = feature_set[feature_set[\"success\"] == 1]\n",
    "failure_df = feature_set[feature_set[\"success\"] != 1]\n",
    "\n",
    "failure_sampled_df, other_sampled_df = train_test_split(failure_df, train_size=125)\n",
    "\n",
    "balanced_df = pd.concat([failure_sampled_df, success_df], axis = 0) \n",
    "\n",
    "# check class Balance        \n",
    "class_balance = balanced_df.success.value_counts()[0] / balanced_df.success.value_counts().sum()*100\n",
    "print('Class Balance = ',class_balance)\n",
    "print('nrow:',len(balanced_df.index))\n"
   ]
  },
  {
   "cell_type": "code",
   "execution_count": 32,
   "metadata": {},
   "outputs": [],
   "source": [
    "# export the dataframe as csv file\n",
    "balanced_df.to_csv(r'Coursework Notebook/balanced_df.csv')"
   ]
  },
  {
   "cell_type": "markdown",
   "metadata": {},
   "source": [
    "## 4.\tEvaluate algorithms \n",
    "\n",
    "**Model Selection**\n",
    "\n",
    "There are number of classification models available to us via the **`scikit-learn`** package, and we can rapidly experiment using each of them to find the optimal model.\n",
    "\n",
    "Below is an outline of the steps we will take to arrive at the best model:\n",
    "\n",
    "*\tSplit data into training and validation (hold-out) set\n",
    "*\tUse cross-validation to fit different models to training set\n",
    "*\tSelect model with the highest cross-validation score as model of choice\n",
    "*\tTune hyper parameters of chosen model.\n",
    "*\tTest the model on hold-out set\n",
    "\n"
   ]
  },
  {
   "cell_type": "markdown",
   "metadata": {},
   "source": [
    "<div class=\"alert alert-warning\">\n",
    "<b>ACTION: Spot-check algorithms </b> \n",
    "\n",
    "<p> Try a mixture of algorithm representations (e.g. instances and trees). </p>\n",
    "\n",
    "<p> Try a mixture of learning algorithms (e.g. different algorithms for learning the same type of representation).<p>\n",
    "\n",
    "<p> Try a mixture of modeling types (e.g. linear and nonlinear functions or parametric and nonparametric).</p>\n",
    "\n",
    "<p> Divide this work up among the different members of your team and then compare and comment on the performance of various approaches.</p>\n",
    "\n",
    "</div>"
   ]
  },
  {
   "cell_type": "code",
   "execution_count": 4,
   "metadata": {
    "scrolled": true
   },
   "outputs": [
    {
     "data": {
      "text/html": [
       "<div>\n",
       "<style scoped>\n",
       "    .dataframe tbody tr th:only-of-type {\n",
       "        vertical-align: middle;\n",
       "    }\n",
       "\n",
       "    .dataframe tbody tr th {\n",
       "        vertical-align: top;\n",
       "    }\n",
       "\n",
       "    .dataframe thead th {\n",
       "        text-align: right;\n",
       "    }\n",
       "</style>\n",
       "<table border=\"1\" class=\"dataframe\">\n",
       "  <thead>\n",
       "    <tr style=\"text-align: right;\">\n",
       "      <th></th>\n",
       "      <th>index</th>\n",
       "      <th>Unnamed: 0</th>\n",
       "      <th>passion_score</th>\n",
       "      <th>playlist_passion</th>\n",
       "      <th>gender_perc</th>\n",
       "      <th>Adult</th>\n",
       "      <th>YoungAdult</th>\n",
       "      <th>Senior</th>\n",
       "      <th>Dependent</th>\n",
       "      <th>PCA2</th>\n",
       "      <th>PCA3</th>\n",
       "      <th>PCA4</th>\n",
       "      <th>PCA5</th>\n",
       "      <th>PCA6</th>\n",
       "      <th>PCA7</th>\n",
       "      <th>PCA8</th>\n",
       "      <th>PCA9</th>\n",
       "      <th>PCA10</th>\n",
       "      <th>success</th>\n",
       "    </tr>\n",
       "  </thead>\n",
       "  <tbody>\n",
       "    <tr>\n",
       "      <th>0</th>\n",
       "      <td>0</td>\n",
       "      <td>Jaider White</td>\n",
       "      <td>1.111111</td>\n",
       "      <td>0.25</td>\n",
       "      <td>0.000000</td>\n",
       "      <td>0.888889</td>\n",
       "      <td>0.111111</td>\n",
       "      <td>0.000000</td>\n",
       "      <td>0.000000</td>\n",
       "      <td>0.184109</td>\n",
       "      <td>-0.269174</td>\n",
       "      <td>0.149538</td>\n",
       "      <td>0.079515</td>\n",
       "      <td>-0.205543</td>\n",
       "      <td>-0.177612</td>\n",
       "      <td>0.079038</td>\n",
       "      <td>0.311869</td>\n",
       "      <td>-0.047215</td>\n",
       "      <td>0</td>\n",
       "    </tr>\n",
       "    <tr>\n",
       "      <th>1</th>\n",
       "      <td>1</td>\n",
       "      <td>Torro Torro</td>\n",
       "      <td>1.040650</td>\n",
       "      <td>4.10</td>\n",
       "      <td>0.838542</td>\n",
       "      <td>0.299728</td>\n",
       "      <td>0.460490</td>\n",
       "      <td>0.062670</td>\n",
       "      <td>0.177112</td>\n",
       "      <td>0.117663</td>\n",
       "      <td>-0.271139</td>\n",
       "      <td>-0.015111</td>\n",
       "      <td>0.100961</td>\n",
       "      <td>-0.067418</td>\n",
       "      <td>-0.221321</td>\n",
       "      <td>0.005723</td>\n",
       "      <td>0.013691</td>\n",
       "      <td>-0.014958</td>\n",
       "      <td>0</td>\n",
       "    </tr>\n",
       "    <tr>\n",
       "      <th>2</th>\n",
       "      <td>2</td>\n",
       "      <td>Locnville</td>\n",
       "      <td>1.232653</td>\n",
       "      <td>0.05</td>\n",
       "      <td>0.620861</td>\n",
       "      <td>0.274029</td>\n",
       "      <td>0.515337</td>\n",
       "      <td>0.022495</td>\n",
       "      <td>0.188139</td>\n",
       "      <td>0.112140</td>\n",
       "      <td>-0.244916</td>\n",
       "      <td>0.008023</td>\n",
       "      <td>0.105898</td>\n",
       "      <td>-0.073266</td>\n",
       "      <td>-0.224087</td>\n",
       "      <td>0.000629</td>\n",
       "      <td>0.019097</td>\n",
       "      <td>-0.010084</td>\n",
       "      <td>0</td>\n",
       "    </tr>\n",
       "    <tr>\n",
       "      <th>3</th>\n",
       "      <td>3</td>\n",
       "      <td>SLANG</td>\n",
       "      <td>1.067485</td>\n",
       "      <td>0.30</td>\n",
       "      <td>0.646552</td>\n",
       "      <td>0.314642</td>\n",
       "      <td>0.545171</td>\n",
       "      <td>0.009346</td>\n",
       "      <td>0.130841</td>\n",
       "      <td>-0.320087</td>\n",
       "      <td>-0.020120</td>\n",
       "      <td>-0.481102</td>\n",
       "      <td>0.590547</td>\n",
       "      <td>0.137137</td>\n",
       "      <td>0.612845</td>\n",
       "      <td>-0.701663</td>\n",
       "      <td>0.408811</td>\n",
       "      <td>0.500755</td>\n",
       "      <td>0</td>\n",
       "    </tr>\n",
       "    <tr>\n",
       "      <th>4</th>\n",
       "      <td>4</td>\n",
       "      <td>Shannon Noll</td>\n",
       "      <td>1.000000</td>\n",
       "      <td>0.05</td>\n",
       "      <td>0.562500</td>\n",
       "      <td>0.312500</td>\n",
       "      <td>0.437500</td>\n",
       "      <td>0.000000</td>\n",
       "      <td>0.250000</td>\n",
       "      <td>0.133428</td>\n",
       "      <td>-0.222202</td>\n",
       "      <td>-0.000908</td>\n",
       "      <td>0.134682</td>\n",
       "      <td>-0.074147</td>\n",
       "      <td>-0.207580</td>\n",
       "      <td>-0.003517</td>\n",
       "      <td>0.021564</td>\n",
       "      <td>-0.006409</td>\n",
       "      <td>0</td>\n",
       "    </tr>\n",
       "  </tbody>\n",
       "</table>\n",
       "</div>"
      ],
      "text/plain": [
       "   index    Unnamed: 0  passion_score  playlist_passion  gender_perc  \\\n",
       "0      0  Jaider White       1.111111              0.25     0.000000   \n",
       "1      1   Torro Torro       1.040650              4.10     0.838542   \n",
       "2      2     Locnville       1.232653              0.05     0.620861   \n",
       "3      3         SLANG       1.067485              0.30     0.646552   \n",
       "4      4  Shannon Noll       1.000000              0.05     0.562500   \n",
       "\n",
       "      Adult  YoungAdult    Senior  Dependent      PCA2      PCA3      PCA4  \\\n",
       "0  0.888889    0.111111  0.000000   0.000000  0.184109 -0.269174  0.149538   \n",
       "1  0.299728    0.460490  0.062670   0.177112  0.117663 -0.271139 -0.015111   \n",
       "2  0.274029    0.515337  0.022495   0.188139  0.112140 -0.244916  0.008023   \n",
       "3  0.314642    0.545171  0.009346   0.130841 -0.320087 -0.020120 -0.481102   \n",
       "4  0.312500    0.437500  0.000000   0.250000  0.133428 -0.222202 -0.000908   \n",
       "\n",
       "       PCA5      PCA6      PCA7      PCA8      PCA9     PCA10  success  \n",
       "0  0.079515 -0.205543 -0.177612  0.079038  0.311869 -0.047215        0  \n",
       "1  0.100961 -0.067418 -0.221321  0.005723  0.013691 -0.014958        0  \n",
       "2  0.105898 -0.073266 -0.224087  0.000629  0.019097 -0.010084        0  \n",
       "3  0.590547  0.137137  0.612845 -0.701663  0.408811  0.500755        0  \n",
       "4  0.134682 -0.074147 -0.207580 -0.003517  0.021564 -0.006409        0  "
      ]
     },
     "execution_count": 4,
     "metadata": {},
     "output_type": "execute_result"
    }
   ],
   "source": [
    "#reset index\n",
    "balanced_df = pd.read_csv('balanced_df.csv')\n",
    "\n",
    "balanced_df = balanced_df.reset_index()\n",
    "\n",
    "#check the data\n",
    "balanced_df.head()"
   ]
  },
  {
   "cell_type": "code",
   "execution_count": 65,
   "metadata": {},
   "outputs": [],
   "source": [
    "# Split into train and validation set\n",
    "features = ['passion_score','playlist_passion','gender_perc','Adult','YoungAdult','Senior','Dependent','PCA2','PCA3','PCA4','PCA5','PCA6','PCA7','PCA8','PCA9','PCA10']\n",
    "\n",
    "X = balanced_df[features]\n",
    "y = balanced_df['success']\n",
    "X_train, X_test, y_train, y_test = train_test_split(X, y , test_size=0.2, random_state=10086)\n"
   ]
  },
  {
   "cell_type": "code",
   "execution_count": 66,
   "metadata": {},
   "outputs": [
    {
     "data": {
      "text/plain": [
       "166"
      ]
     },
     "execution_count": 66,
     "metadata": {},
     "output_type": "execute_result"
    }
   ],
   "source": [
    "#check the number of rows in training set\n",
    "len(X_train)"
   ]
  },
  {
   "cell_type": "code",
   "execution_count": 73,
   "metadata": {},
   "outputs": [],
   "source": [
    "# change of dependent variable to integer for modelling\n",
    "y_train = y_train.astype('int')"
   ]
  },
  {
   "cell_type": "code",
   "execution_count": 77,
   "metadata": {},
   "outputs": [
    {
     "name": "stdout",
     "output_type": "stream",
     "text": [
      "Accuracy Score is 0.8494\n"
     ]
    },
    {
     "name": "stderr",
     "output_type": "stream",
     "text": [
      "/Users/brennanyap/opt/anaconda3/lib/python3.8/site-packages/sklearn/linear_model/_logistic.py:763: ConvergenceWarning: lbfgs failed to converge (status=1):\n",
      "STOP: TOTAL NO. of ITERATIONS REACHED LIMIT.\n",
      "\n",
      "Increase the number of iterations (max_iter) or scale the data as shown in:\n",
      "    https://scikit-learn.org/stable/modules/preprocessing.html\n",
      "Please also refer to the documentation for alternative solver options:\n",
      "    https://scikit-learn.org/stable/modules/linear_model.html#logistic-regression\n",
      "  n_iter_i = _check_optimize_result(\n",
      "/Users/brennanyap/opt/anaconda3/lib/python3.8/site-packages/sklearn/linear_model/_logistic.py:763: ConvergenceWarning: lbfgs failed to converge (status=1):\n",
      "STOP: TOTAL NO. of ITERATIONS REACHED LIMIT.\n",
      "\n",
      "Increase the number of iterations (max_iter) or scale the data as shown in:\n",
      "    https://scikit-learn.org/stable/modules/preprocessing.html\n",
      "Please also refer to the documentation for alternative solver options:\n",
      "    https://scikit-learn.org/stable/modules/linear_model.html#logistic-regression\n",
      "  n_iter_i = _check_optimize_result(\n",
      "/Users/brennanyap/opt/anaconda3/lib/python3.8/site-packages/sklearn/linear_model/_logistic.py:763: ConvergenceWarning: lbfgs failed to converge (status=1):\n",
      "STOP: TOTAL NO. of ITERATIONS REACHED LIMIT.\n",
      "\n",
      "Increase the number of iterations (max_iter) or scale the data as shown in:\n",
      "    https://scikit-learn.org/stable/modules/preprocessing.html\n",
      "Please also refer to the documentation for alternative solver options:\n",
      "    https://scikit-learn.org/stable/modules/linear_model.html#logistic-regression\n",
      "  n_iter_i = _check_optimize_result(\n",
      "/Users/brennanyap/opt/anaconda3/lib/python3.8/site-packages/sklearn/linear_model/_logistic.py:763: ConvergenceWarning: lbfgs failed to converge (status=1):\n",
      "STOP: TOTAL NO. of ITERATIONS REACHED LIMIT.\n",
      "\n",
      "Increase the number of iterations (max_iter) or scale the data as shown in:\n",
      "    https://scikit-learn.org/stable/modules/preprocessing.html\n",
      "Please also refer to the documentation for alternative solver options:\n",
      "    https://scikit-learn.org/stable/modules/linear_model.html#logistic-regression\n",
      "  n_iter_i = _check_optimize_result(\n",
      "/Users/brennanyap/opt/anaconda3/lib/python3.8/site-packages/sklearn/linear_model/_logistic.py:763: ConvergenceWarning: lbfgs failed to converge (status=1):\n",
      "STOP: TOTAL NO. of ITERATIONS REACHED LIMIT.\n",
      "\n",
      "Increase the number of iterations (max_iter) or scale the data as shown in:\n",
      "    https://scikit-learn.org/stable/modules/preprocessing.html\n",
      "Please also refer to the documentation for alternative solver options:\n",
      "    https://scikit-learn.org/stable/modules/linear_model.html#logistic-regression\n",
      "  n_iter_i = _check_optimize_result(\n"
     ]
    }
   ],
   "source": [
    "#model no.1: logistic regression model\n",
    "model1 = LogisticRegression()\n",
    "model1.fit(X_train, y_train)\n",
    "\n",
    "y_train_pred = cross_val_predict(model1, X_train, y_train, cv=5)\n",
    "confusion_matrix(y_train, y_train_pred)\n",
    "\n",
    "print('Accuracy Score is {:.5}'.format(accuracy_score(y_train, y_train_pred)))\n"
   ]
  },
  {
   "cell_type": "code",
   "execution_count": 78,
   "metadata": {},
   "outputs": [
    {
     "name": "stdout",
     "output_type": "stream",
     "text": [
      "Accuracy Score is 0.81928\n"
     ]
    },
    {
     "name": "stderr",
     "output_type": "stream",
     "text": [
      "/Users/brennanyap/opt/anaconda3/lib/python3.8/site-packages/sklearn/svm/_base.py:985: ConvergenceWarning: Liblinear failed to converge, increase the number of iterations.\n",
      "  warnings.warn(\"Liblinear failed to converge, increase \"\n",
      "/Users/brennanyap/opt/anaconda3/lib/python3.8/site-packages/sklearn/svm/_base.py:985: ConvergenceWarning: Liblinear failed to converge, increase the number of iterations.\n",
      "  warnings.warn(\"Liblinear failed to converge, increase \"\n",
      "/Users/brennanyap/opt/anaconda3/lib/python3.8/site-packages/sklearn/svm/_base.py:985: ConvergenceWarning: Liblinear failed to converge, increase the number of iterations.\n",
      "  warnings.warn(\"Liblinear failed to converge, increase \"\n",
      "/Users/brennanyap/opt/anaconda3/lib/python3.8/site-packages/sklearn/svm/_base.py:985: ConvergenceWarning: Liblinear failed to converge, increase the number of iterations.\n",
      "  warnings.warn(\"Liblinear failed to converge, increase \"\n",
      "/Users/brennanyap/opt/anaconda3/lib/python3.8/site-packages/sklearn/svm/_base.py:985: ConvergenceWarning: Liblinear failed to converge, increase the number of iterations.\n",
      "  warnings.warn(\"Liblinear failed to converge, increase \"\n",
      "/Users/brennanyap/opt/anaconda3/lib/python3.8/site-packages/sklearn/svm/_base.py:985: ConvergenceWarning: Liblinear failed to converge, increase the number of iterations.\n",
      "  warnings.warn(\"Liblinear failed to converge, increase \"\n"
     ]
    }
   ],
   "source": [
    "#model no.2: Linear SVC\n",
    "model2 = LinearSVC()\n",
    "model2.fit(X_train, y_train)\n",
    "\n",
    "y_train_pred = cross_val_predict(model2, X_train, y_train, cv=5)\n",
    "confusion_matrix(y_train, y_train_pred)\n",
    "\n",
    "print('Accuracy Score is {:.5}'.format(accuracy_score(y_train, y_train_pred)))"
   ]
  },
  {
   "cell_type": "code",
   "execution_count": 79,
   "metadata": {},
   "outputs": [
    {
     "name": "stdout",
     "output_type": "stream",
     "text": [
      "Accuracy Score is 0.78313\n"
     ]
    }
   ],
   "source": [
    "#model no.3: SVC\n",
    "model3 = SVC()\n",
    "model3.fit(X_train, y_train)\n",
    "\n",
    "y_train_pred = cross_val_predict(model3, X_train, y_train, cv=5)\n",
    "confusion_matrix(y_train, y_train_pred)\n",
    "\n",
    "print('Accuracy Score is {:.5}'.format(accuracy_score(y_train, y_train_pred)))"
   ]
  },
  {
   "cell_type": "code",
   "execution_count": 80,
   "metadata": {},
   "outputs": [
    {
     "name": "stdout",
     "output_type": "stream",
     "text": [
      "Accuracy Score is 0.8012\n"
     ]
    }
   ],
   "source": [
    "#model no.4: decision tree model \n",
    "model4 =  DecisionTreeClassifier()\n",
    "model4.fit(X_train, y_train)\n",
    "\n",
    "y_train_pred = cross_val_predict(model4, X_train, y_train, cv=5)\n",
    "confusion_matrix(y_train, y_train_pred)\n",
    "\n",
    "print('Accuracy Score is {:.5}'.format(accuracy_score(y_train, y_train_pred)))"
   ]
  },
  {
   "cell_type": "code",
   "execution_count": 107,
   "metadata": {},
   "outputs": [
    {
     "name": "stdout",
     "output_type": "stream",
     "text": [
      "Accuracy Score is 0.8494\n"
     ]
    }
   ],
   "source": [
    "#model no.5: random forest model\n",
    "model5 = RandomForestClassifier()\n",
    "model5.fit(X_train, y_train)\n",
    "\n",
    "y_train_pred = cross_val_predict(model5, X_train, y_train, cv=5)\n",
    "confusion_matrix(y_train, y_train_pred)\n",
    "\n",
    "print('Accuracy Score is {:.5}'.format(accuracy_score(y_train, y_train_pred)))"
   ]
  },
  {
   "cell_type": "code",
   "execution_count": 83,
   "metadata": {},
   "outputs": [
    {
     "name": "stdout",
     "output_type": "stream",
     "text": [
      "6/6 [==============================] - 0s 887us/step - loss: 1.5361 - accuracy: 0.8614\n"
     ]
    },
    {
     "data": {
      "text/plain": [
       "<keras.callbacks.History at 0x7fbc6d2b9430>"
      ]
     },
     "execution_count": 83,
     "metadata": {},
     "output_type": "execute_result"
    }
   ],
   "source": [
    "#model no.6: deep neural network\n",
    "model6 = keras.models.Sequential()\n",
    "model6.compile(loss=\"sparse_categorical_crossentropy\",\n",
    "              optimizer=\"sgd\",\n",
    "              metrics=[\"accuracy\"])\n",
    "model6.fit(X_train, y_train)"
   ]
  },
  {
   "cell_type": "code",
   "execution_count": 156,
   "metadata": {},
   "outputs": [
    {
     "name": "stdout",
     "output_type": "stream",
     "text": [
      "Fitting 3 folds for each of 648 candidates, totalling 1944 fits\n"
     ]
    },
    {
     "name": "stderr",
     "output_type": "stream",
     "text": [
      "/Users/brennanyap/opt/anaconda3/lib/python3.8/site-packages/sklearn/model_selection/_search.py:918: UserWarning: One or more of the test scores are non-finite: [       nan        nan        nan        nan 0.7144152  0.76780142\n",
      " 0.78948631 0.80722222 0.79056911 0.76581939 0.76288288 0.81699346\n",
      "        nan        nan        nan        nan 0.75591017 0.82092024\n",
      " 0.79154995 0.80112466 0.79349593 0.79653846 0.81479798 0.79974359\n",
      "        nan        nan        nan        nan 0.73840049 0.79047916\n",
      " 0.77124183 0.79408748 0.77941843 0.77426092 0.77037634 0.76695694\n",
      "        nan        nan        nan        nan 0.80154509 0.79087107\n",
      " 0.79463364 0.80860713 0.78249644 0.78509437 0.75294508 0.81065862\n",
      "        nan        nan        nan        nan 0.76379305 0.80528424\n",
      " 0.79078683 0.80722222 0.78950292 0.79105463 0.80390244 0.80252486\n",
      "        nan        nan        nan        nan 0.78689307 0.78148414\n",
      " 0.78543245 0.80610277 0.7868873  0.78024388 0.76976952 0.79479449\n",
      "        nan        nan        nan        nan 0.76124093 0.81325052\n",
      " 0.82185243 0.80722222 0.79815081 0.80881508 0.81432273 0.80824699\n",
      "        nan        nan        nan        nan 0.80679016 0.78664193\n",
      " 0.79877551 0.83876031 0.74231293 0.81680513 0.7960851  0.80107763\n",
      "        nan        nan        nan        nan 0.76288288 0.7858933\n",
      " 0.81544218 0.81       0.76767677 0.81480148 0.82337122 0.80969054\n",
      "        nan        nan        nan        nan 0.76436372 0.80183673\n",
      " 0.78998754 0.7885034  0.75810534 0.81320862 0.80172557 0.79301587\n",
      "        nan        nan        nan        nan 0.7372549  0.78810458\n",
      " 0.79666667 0.79667261 0.77700258 0.77376671 0.83528345 0.80172557\n",
      "        nan        nan        nan        nan 0.76934462 0.77579619\n",
      " 0.79666667 0.81199934 0.75760895 0.79440994 0.78235294 0.81881237\n",
      "        nan        nan        nan        nan 0.78904762 0.79521421\n",
      " 0.77405896 0.77901027 0.83318545 0.79867368 0.81179138 0.79666667\n",
      "        nan        nan        nan        nan 0.79229814 0.79349593\n",
      " 0.81680513 0.82898588 0.74436052 0.80307692 0.80183673 0.79408748\n",
      "        nan        nan        nan        nan 0.79685185 0.77350427\n",
      " 0.81738482 0.79871795 0.77742799 0.7956676  0.77947901 0.81941043\n",
      "        nan        nan        nan        nan 0.73820203 0.81350419\n",
      " 0.7591788  0.80283326 0.78998754 0.81179138 0.81396825 0.80528424\n",
      "        nan        nan        nan        nan 0.74477455 0.80062794\n",
      " 0.79115297 0.81680513 0.78418923 0.77143791 0.79703704 0.78147186\n",
      "        nan        nan        nan        nan 0.77212121 0.77183673\n",
      " 0.7967145  0.80262074 0.77635878 0.79351235 0.81182412 0.77468268\n",
      "        nan        nan        nan        nan 0.77693237 0.79687773\n",
      " 0.79871795 0.80424837 0.81179138 0.77666188 0.81119048 0.79877551\n",
      "        nan        nan        nan        nan 0.77710233 0.79255492\n",
      " 0.81404841 0.7995326  0.79685185 0.74663351 0.78905983 0.80775256\n",
      "        nan        nan        nan        nan 0.75554044 0.78594771\n",
      " 0.78711485 0.81441097 0.79924242 0.7886167  0.80424837 0.79778578\n",
      "        nan        nan        nan        nan 0.78841608 0.76072562\n",
      " 0.77368687 0.80385488 0.78606416 0.77331822 0.79480519 0.821678\n",
      "        nan        nan        nan        nan 0.73640325 0.77437642\n",
      " 0.77436677 0.80477124 0.78157233 0.80934462 0.768891   0.79979466\n",
      "        nan        nan        nan        nan 0.8060771  0.80359903\n",
      " 0.79143791 0.81396825 0.80447552 0.80969054 0.81738482 0.79800032\n",
      "        nan        nan        nan        nan 0.76974359 0.77938157\n",
      " 0.82388889 0.81396825 0.79623835 0.79426098 0.81       0.81320862\n",
      "        nan        nan        nan        nan 0.78584795 0.76379176\n",
      " 0.776962   0.826149   0.79305427 0.76591318 0.77944444 0.80063492\n",
      "        nan        nan        nan        nan 0.78820862 0.78646843\n",
      " 0.78449495 0.80775256 0.78017902 0.78241352 0.79964646 0.82560478\n",
      "        nan        nan        nan        nan 0.76643991 0.78152109\n",
      " 0.81       0.80841064 0.78023127 0.81813725 0.77567694 0.80424837\n",
      "        nan        nan        nan        nan 0.7596425  0.79143791\n",
      " 0.80475842 0.78240584 0.75350666 0.78733282 0.80353741 0.80147059\n",
      "        nan        nan        nan        nan 0.79710884 0.78950292\n",
      " 0.80969054 0.82560478 0.74957393 0.81105621 0.79877551 0.81432273\n",
      "        nan        nan        nan        nan 0.80459933 0.80521783\n",
      " 0.81882327 0.80359298 0.80622824 0.81441097 0.80477124 0.80722222\n",
      "        nan        nan        nan        nan 0.76135303 0.78891941\n",
      " 0.78909091 0.79091503 0.80419994 0.79041858 0.80283326 0.78833585\n",
      "        nan        nan        nan        nan 0.73139122 0.79292205\n",
      " 0.80477124 0.81544218 0.76893939 0.77380952 0.81641026 0.81182412\n",
      "        nan        nan        nan        nan 0.79119981 0.80359903\n",
      " 0.8073148  0.79800032 0.80958543 0.81493384 0.81594684 0.78909091\n",
      "        nan        nan        nan        nan 0.80561404 0.80210884\n",
      " 0.81798573 0.80147059 0.78147186 0.81350419 0.79078683 0.81105621\n",
      "        nan        nan        nan        nan 0.76144094 0.77910946\n",
      " 0.78993197 0.80238095 0.80368859 0.7864162  0.80722222 0.80063492\n",
      "        nan        nan        nan        nan 0.75       0.81119048\n",
      " 0.80572998 0.80821662 0.80310458 0.80982456 0.78909091 0.7960851\n",
      "        nan        nan        nan        nan 0.77331822 0.77947901\n",
      " 0.78764228 0.78904762 0.80517828 0.79667261 0.78534035 0.81350419\n",
      "        nan        nan        nan        nan 0.77647059 0.81738482\n",
      " 0.77837195 0.79531746 0.75378446 0.78598291 0.81917313 0.82560478\n",
      "        nan        nan        nan        nan 0.76126984 0.80967498\n",
      " 0.7956676  0.8073148  0.78055556 0.78466698 0.80017086 0.80682927\n",
      "        nan        nan        nan        nan 0.76897207 0.77930403\n",
      " 0.80183673 0.79089947 0.74064626 0.79356461 0.80371184 0.81\n",
      "        nan        nan        nan        nan 0.79849079 0.80722222\n",
      " 0.8136588  0.79425926 0.82018577 0.78598291 0.78664193 0.79745077\n",
      "        nan        nan        nan        nan 0.75276855 0.79818594\n",
      " 0.79259431 0.80588514 0.79710884 0.7950773  0.76749218 0.80775256\n",
      "        nan        nan        nan        nan 0.76336841 0.79960317\n",
      " 0.80238095 0.79421769 0.78678063 0.80707283 0.78082552 0.81941043\n",
      "        nan        nan        nan        nan 0.80116659 0.74246542\n",
      " 0.81183753 0.81350419 0.77677583 0.80231038 0.80588514 0.79333333\n",
      "        nan        nan        nan        nan 0.76774854 0.81479798\n",
      " 0.78198582 0.81441097 0.78812013 0.7797619  0.80528424 0.79611031\n",
      "        nan        nan        nan        nan 0.79328569 0.79350561\n",
      " 0.79591837 0.80969054 0.80477124 0.7967145  0.79727891 0.78418034\n",
      "        nan        nan        nan        nan 0.79453309 0.77947901\n",
      " 0.79055556 0.79286648 0.80390244 0.78923849 0.79399196 0.80419441\n",
      "        nan        nan        nan        nan 0.79666667 0.78970719\n",
      " 0.7922797  0.79472868 0.79385694 0.78696327 0.79010998 0.77971033\n",
      "        nan        nan        nan        nan 0.77217554 0.78897705\n",
      " 0.79778578 0.77659864 0.78434319 0.78240584 0.7847619  0.80357143\n",
      "        nan        nan        nan        nan 0.79047619 0.78810458\n",
      " 0.79350561 0.80841064 0.75513658 0.77042735 0.80283326 0.79255814\n",
      "        nan        nan        nan        nan 0.76295084 0.78976136\n",
      " 0.78524743 0.79202742 0.77160576 0.79038127 0.77160576 0.79225487\n",
      "        nan        nan        nan        nan 0.77734645 0.76883932\n",
      " 0.79573917 0.80357143 0.79231086 0.80869174 0.79472868 0.81533101\n",
      "        nan        nan        nan        nan 0.79778578 0.80405149\n",
      " 0.78978036 0.79056911 0.76078089 0.79895407 0.78680651 0.80786642]\n",
      "  warnings.warn(\n"
     ]
    },
    {
     "data": {
      "text/plain": [
       "RandomForestClassifier(max_depth=3, max_features=4, min_samples_leaf=2,\n",
       "                       n_estimators=20)"
      ]
     },
     "execution_count": 156,
     "metadata": {},
     "output_type": "execute_result"
    }
   ],
   "source": [
    "#Grid search for Random Forest\n",
    "\n",
    "\n",
    "# Number of trees in random forest\n",
    "n_estimators = [5,10,15,20]\n",
    "# Number of features to consider at every split\n",
    "max_features = [2,3,4]\n",
    "# Maximum number of levels in tree\n",
    "max_depth = [3,4,5]\n",
    "# Minimum number of samples required to split a node\n",
    "min_samples_split = [1,2, 3]\n",
    "# Minimum number of samples required at each leaf node\n",
    "min_samples_leaf = [1,2,3]\n",
    "# Method of selecting samples for training each tree\n",
    "bootstrap = [True, False]\n",
    "\n",
    "#defining the parameters for the grid search\n",
    "param_grid = {'n_estimators': n_estimators,\n",
    "               'max_features': max_features,\n",
    "               'max_depth': max_depth,\n",
    "               'min_samples_split': min_samples_split,\n",
    "               'min_samples_leaf': min_samples_leaf,\n",
    "               'bootstrap': bootstrap}\n",
    "\n",
    "#define the model and the grid search\n",
    "rf_Model = RandomForestClassifier()\n",
    "rf_Grid = GridSearchCV(estimator = rf_Model, param_grid = param_grid, scoring = \"f1\", cv = 3, verbose=2, n_jobs = 4)\n",
    "\n",
    "#perform the grid search\n",
    "rf_Grid.fit(X_train, y_train)\n",
    "\n",
    "#finding the best hyperparamters combinations from grid search\n",
    "rf_Grid.best_estimator_"
   ]
  },
  {
   "cell_type": "code",
   "execution_count": 157,
   "metadata": {},
   "outputs": [
    {
     "name": "stdout",
     "output_type": "stream",
     "text": [
      "Accuracy Score is 0.95238\n"
     ]
    }
   ],
   "source": [
    "#predict values with optimized hyperparameters\n",
    "\n",
    "y_predict = rf_Grid.predict(X_test)\n",
    "\n",
    "print('Accuracy Score is {:.5}'.format(accuracy_score(y_test, y_predict)))"
   ]
  },
  {
   "cell_type": "markdown",
   "metadata": {},
   "source": [
    "\n",
    "## 5. Present Results"
   ]
  },
  {
   "cell_type": "markdown",
   "metadata": {},
   "source": [
    "### Confusion Matrix\n",
    "\n",
    "To get a better idea of the quality of our predictions, we can plot a confusion matrix and ROC curve. \n",
    "\n",
    "\n",
    "A confusion matrix is a technique for summarizing the performance of a classification algorithm that allows visualization of the performance of an algorithm. \n",
    "\n",
    "Each row of the matrix represents the instances in a predicted class while each column represents the instances in an actual class (or vice versa). \n",
    "\n",
    "The confusion matrix shows the ways in which your classification model is confused when it makes predictions. It gives you insight not only into the errors being made by your classifier but more importantly the types of errors that are being made."
   ]
  },
  {
   "cell_type": "markdown",
   "metadata": {},
   "source": [
    "<div class=\"alert alert-warning\">\n",
    "<b>ACTION:  Confusion matrix  </b> \n",
    "\n",
    "<p> Comment on the performance of your final algorithm. Repeat analysis from earlier in the Notebook if necessary. </p>\n",
    "\n",
    "<p> Explain confusion matrix results, calculate accuracy and precision etc. </p>\n",
    "\n",
    "</div>"
   ]
  },
  {
   "cell_type": "code",
   "execution_count": 158,
   "metadata": {},
   "outputs": [
    {
     "data": {
      "text/plain": [
       "array([[26,  2],\n",
       "       [ 0, 14]])"
      ]
     },
     "execution_count": 158,
     "metadata": {},
     "output_type": "execute_result"
    }
   ],
   "source": [
    "# Confusion Matrix\n",
    "cf_matrix = confusion_matrix(y_test, y_predict)\n",
    "cf_matrix"
   ]
  },
  {
   "cell_type": "code",
   "execution_count": 159,
   "metadata": {},
   "outputs": [
    {
     "data": {
      "image/png": "[encoded data removed]",
      "text/plain": [
       "<Figure size 1080x576 with 2 Axes>"
      ]
     },
     "metadata": {},
     "output_type": "display_data"
    }
   ],
   "source": [
    "# Plot Confusion Matrix\n",
    "ax = sns.heatmap(cf_matrix, annot=True, cmap='Blues')\n",
    "\n",
    "ax.set_title('Seaborn Confusion Matrix with labels\\n\\n');\n",
    "ax.set_xlabel('\\nPredicted Values')\n",
    "ax.set_ylabel('Actual Values ');\n",
    "\n",
    "## Ticket labels - List must be in alphabetical order\n",
    "ax.xaxis.set_ticklabels(['False','True'])\n",
    "ax.yaxis.set_ticklabels(['False','True'])\n",
    "\n",
    "## Display the visualization of the Confusion Matrix.\n",
    "plt.show()"
   ]
  },
  {
   "cell_type": "markdown",
   "metadata": {},
   "source": [
    "### ROC Curve \n",
    "\n",
    "Receiver Operating Characteristic (ROC) curves show the ability of the model to classify subjects correctly across a range of decision thresholds, i.e. it plots the True Positive Rate vs. False Positive Rate at every probability threshold. \n",
    "\n",
    "The AUC summarizes the results of an ROC – it is the probability that a randomly chosen ‘success’ example has a higher probability of being a success than a randomly chosen ‘failure’ example. A random classification would yield an AUC of 0.5, and a perfectly accurate one would yield 1.\n"
   ]
  },
  {
   "cell_type": "markdown",
   "metadata": {},
   "source": [
    "<div class=\"alert alert-warning\">\n",
    "<b>ACTION:  ROC Curve </b> \n",
    "\n",
    "<p> Comment on the performance of your final algorithm. Repeat analysis from earlier in the Notebook if necessary. </p>\n",
    "\n",
    "<p> Explain any observations about the ROC results. </p>\n",
    "\n",
    "</div>"
   ]
  },
  {
   "cell_type": "code",
   "execution_count": 160,
   "metadata": {},
   "outputs": [
    {
     "data": {
      "image/png": "[encoded data removed]",
      "text/plain": [
       "<Figure size 1080x576 with 1 Axes>"
      ]
     },
     "metadata": {},
     "output_type": "display_data"
    }
   ],
   "source": [
    "# # ROC curve\n",
    "from sklearn.metrics import roc_curve\n",
    "fpr, tpr, thresholds = roc_curve(y_test, y_predict)\n",
    "\n",
    "# Plot classifier ROC\n",
    "def plot_roc_curve(fpr, tpr, label=None):\n",
    "    plt.plot(fpr, tpr, linewidth=2, label=label)\n",
    "    plt.plot([0, 1], [0, 1], 'k--')\n",
    "    [...]\n",
    "plot_roc_curve(fpr, tpr)\n",
    "plt.show()"
   ]
  },
  {
   "cell_type": "markdown",
   "metadata": {},
   "source": [
    "Now that you have a validated model, we can potentially analyze the features of the model, to understand which ones have had the most impact on predicting an artist’s success. \n",
    "\n",
    "To do this, we can plot the feature importance as determined by the classifier:"
   ]
  },
  {
   "cell_type": "markdown",
   "metadata": {},
   "source": [
    "<div class=\"alert alert-warning\">\n",
    "<b>ACTION:  Feature importance</b> \n",
    "\n",
    "<p> Where possible, comment on the feature selection and performance of your final algorithm. Repeat analysis from earlier in the Notebook if necessary. </p>\n",
    "\n",
    "<p> Explain any observations about the sensitivity of your final analysis. </p>\n",
    "\n",
    "</div>"
   ]
  },
  {
   "cell_type": "code",
   "execution_count": 161,
   "metadata": {},
   "outputs": [
    {
     "data": {
      "text/plain": [
       "[('Senior', 0.16774089900716496),\n",
       " ('playlist_passion', 0.1233168009071915),\n",
       " ('Dependent', 0.10986768448241349),\n",
       " ('PCA5', 0.10272107071491636),\n",
       " ('PCA10', 0.08752859719723316),\n",
       " ('PCA6', 0.07830881996582786),\n",
       " ('PCA2', 0.07280477178685067),\n",
       " ('PCA3', 0.0656836486791636),\n",
       " ('PCA9', 0.061964556038970345),\n",
       " ('PCA4', 0.03811904229197764),\n",
       " ('PCA8', 0.02100234136521978),\n",
       " ('PCA7', 0.02067128145343187),\n",
       " ('YoungAdult', 0.015304879300915428),\n",
       " ('passion_score', 0.013915235975729096),\n",
       " ('Adult', 0.013747242760521739),\n",
       " ('gender_perc', 0.007303128072472515)]"
      ]
     },
     "execution_count": 161,
     "metadata": {},
     "output_type": "execute_result"
    }
   ],
   "source": [
    "# Feature importance analysis \n",
    "important_features = {feature:importance for feature,importance in zip(features, model.feature_importances_)}\n",
    "important_features = sorted(important_features.items(),key = lambda x: x[1],  reverse=True)\n",
    "important_features"
   ]
  },
  {
   "cell_type": "markdown",
   "metadata": {},
   "source": [
    "## Summary \n",
    "\n",
    "**Please provide summaries of the work completed and the outcomes of the analysis**\n",
    "\n",
    "\n"
   ]
  },
  {
   "cell_type": "markdown",
   "metadata": {},
   "source": [
    "## Tips completing the coursework \n",
    "\n",
    "- **Faculty** - You are free to run the code on your local machine, but if training timings and memory become an issue then use Faculty to complete the coursework. Technical support for using Faculty will be provided as necessary. \n",
    "\n",
    "- **Fast First Pass** - Make a first-pass through the project steps as fast as possible. This will give you confidence that you have all the parts that you need and a baseline from which to improve.\n",
    "\n",
    "\n",
    "- **Attempt Every Step** -  It is easy to skip steps, especially if you are not confident or familiar with the tasks of that step. Try and do something at each step in the process, even if it does not contribute to improved accuracy. You can always build upon it later. Don’t skip steps, just reduce their contribution.\n",
    "\n",
    "\n",
    "- **Ratchet Accuracy** - The goal of the project is to achieve relatively good model performance (which ever metric you use to measure this) and give you confidence about the ML project structure and workflow. Every step contributes towards this goal. Treat changes that you make as experiments that increase accuracy as the golden path in the process and reorganize other steps around them. Performance is a ratchet that can only move in one direction (better, not worse).\n",
    "\n",
    "\n",
    "- **Adapt As Needed** - Do not limit your analysis to the instructions provided in Guidelines cells, feel free to expand your analysis beyond them. "
   ]
  }
 ],
 "metadata": {
  "kernelspec": {
   "display_name": "Python 3 (ipykernel)",
   "language": "python",
   "name": "python3"
  },
  "language_info": {
   "codemirror_mode": {
    "name": "ipython",
    "version": 3
   },
   "file_extension": ".py",
   "mimetype": "text/x-python",
   "name": "python",
   "nbconvert_exporter": "python",
   "pygments_lexer": "ipython3",
   "version": "3.8.8"
  }
 },
 "nbformat": 4,
 "nbformat_minor": 2
}
